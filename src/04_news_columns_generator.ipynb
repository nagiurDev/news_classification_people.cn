{
 "cells": [
  {
   "cell_type": "markdown",
   "metadata": {
    "id": "u-5imJfLp8nd"
   },
   "source": [
    "# 04. News Columns Generator"
   ]
  },
  {
   "cell_type": "markdown",
   "metadata": {},
   "source": [
    "在新闻网站 (http://en.people.cn/) 上，我很遗憾没有找到预期的`栏目`，只留下了8个栏目（滚动、独家、科学家、产业动态、发明·创新、探索·发现、医学·健康、航)。因此，我使用预先训练的零样本分类模型对文章进行分类。我已将结果储存为 `news['news_column']`。"
   ]
  },
  {
   "cell_type": "code",
   "execution_count": 53,
   "metadata": {
    "colab": {
     "base_uri": "https://localhost:8080/"
    },
    "id": "JmYNdN51qC33",
    "outputId": "be971fbf-cd12-4108-c904-898d75e51b02",
    "scrolled": true
   },
   "outputs": [],
   "source": [
    "# !pip install transformers"
   ]
  },
  {
   "cell_type": "code",
   "execution_count": 49,
   "metadata": {
    "colab": {
     "base_uri": "https://localhost:8080/",
     "height": 206
    },
    "id": "rUv9P0FfuHk6",
    "outputId": "0b3d436b-fd0e-455b-c7b6-5eea1de0ada2"
   },
   "outputs": [
    {
     "data": {
      "text/html": [
       "<div>\n",
       "<style scoped>\n",
       "    .dataframe tbody tr th:only-of-type {\n",
       "        vertical-align: middle;\n",
       "    }\n",
       "\n",
       "    .dataframe tbody tr th {\n",
       "        vertical-align: top;\n",
       "    }\n",
       "\n",
       "    .dataframe thead th {\n",
       "        text-align: right;\n",
       "    }\n",
       "</style>\n",
       "<table border=\"1\" class=\"dataframe\">\n",
       "  <thead>\n",
       "    <tr style=\"text-align: right;\">\n",
       "      <th></th>\n",
       "      <th>title</th>\n",
       "      <th>date</th>\n",
       "      <th>url</th>\n",
       "      <th>article</th>\n",
       "    </tr>\n",
       "  </thead>\n",
       "  <tbody>\n",
       "    <tr>\n",
       "      <th>0</th>\n",
       "      <td>country first innovation center new power syst...</td>\n",
       "      <td>2024-07-15</td>\n",
       "      <td>http://en.people.cn/n3/2024/0715/c90000-201939...</td>\n",
       "      <td>photo shows innovation center new power system...</td>\n",
       "    </tr>\n",
       "    <tr>\n",
       "      <th>1</th>\n",
       "      <td>th china beijing international high tech expo ...</td>\n",
       "      <td>2024-07-15</td>\n",
       "      <td>http://en.people.cn/n3/2024/0715/c90000-201938...</td>\n",
       "      <td>vertical take-off landing drone display th chi...</td>\n",
       "    </tr>\n",
       "    <tr>\n",
       "      <th>2</th>\n",
       "      <td>china tech innovations benefit electricity dev...</td>\n",
       "      <td>2024-07-15</td>\n",
       "      <td>http://en.people.cn/n3/2024/0715/c90000-201938...</td>\n",
       "      <td>beijing july  xinhua china technological foref...</td>\n",
       "    </tr>\n",
       "    <tr>\n",
       "      <th>3</th>\n",
       "      <td>diverse applications new technologies display ...</td>\n",
       "      <td>2024-07-15</td>\n",
       "      <td>http://en.people.cn/n3/2024/0715/c90000-201938...</td>\n",
       "      <td>world ai ference waic high-level meeting glob...</td>\n",
       "    </tr>\n",
       "    <tr>\n",
       "      <th>4</th>\n",
       "      <td>ai used help preserve china oldest wooden pagoda</td>\n",
       "      <td>2024-07-15</td>\n",
       "      <td>http://en.people.cn/n3/2024/0715/c90000-201936...</td>\n",
       "      <td>sakyamuni pagoda also known yingxian wooden pa...</td>\n",
       "    </tr>\n",
       "  </tbody>\n",
       "</table>\n",
       "</div>"
      ],
      "text/plain": [
       "                                               title        date  \\\n",
       "0  country first innovation center new power syst...  2024-07-15   \n",
       "1  th china beijing international high tech expo ...  2024-07-15   \n",
       "2  china tech innovations benefit electricity dev...  2024-07-15   \n",
       "3  diverse applications new technologies display ...  2024-07-15   \n",
       "4   ai used help preserve china oldest wooden pagoda  2024-07-15   \n",
       "\n",
       "                                                 url  \\\n",
       "0  http://en.people.cn/n3/2024/0715/c90000-201939...   \n",
       "1  http://en.people.cn/n3/2024/0715/c90000-201938...   \n",
       "2  http://en.people.cn/n3/2024/0715/c90000-201938...   \n",
       "3  http://en.people.cn/n3/2024/0715/c90000-201938...   \n",
       "4  http://en.people.cn/n3/2024/0715/c90000-201936...   \n",
       "\n",
       "                                             article  \n",
       "0  photo shows innovation center new power system...  \n",
       "1  vertical take-off landing drone display th chi...  \n",
       "2  beijing july  xinhua china technological foref...  \n",
       "3   world ai ference waic high-level meeting glob...  \n",
       "4  sakyamuni pagoda also known yingxian wooden pa...  "
      ]
     },
     "execution_count": 49,
     "metadata": {},
     "output_type": "execute_result"
    }
   ],
   "source": [
    "import pandas as pd\n",
    "\n",
    "news = pd.read_csv('../data/preprocessed/news_preprocessed.csv')\n",
    "news.head()"
   ]
  },
  {
   "cell_type": "markdown",
   "metadata": {
    "id": "wPjKT4_-qIXN"
   },
   "source": [
    "## Define `classifier`"
   ]
  },
  {
   "cell_type": "code",
   "execution_count": 46,
   "metadata": {
    "colab": {
     "base_uri": "https://localhost:8080/"
    },
    "id": "QZTgSx29qnkW",
    "outputId": "317dc2bf-784d-48d3-ec5d-fd13123d0c11"
   },
   "outputs": [
    {
     "name": "stderr",
     "output_type": "stream",
     "text": [
      "/usr/local/lib/python3.10/dist-packages/transformers/tokenization_utils_base.py:1601: FutureWarning: `clean_up_tokenization_spaces` was not set. It will be set to `True` by default. This behavior will be depracted in transformers v4.45, and will be then set to `False` by default. For more details check this issue: https://github.com/huggingface/transformers/issues/31884\n",
      "  warnings.warn(\n"
     ]
    }
   ],
   "source": [
    "from transformers import pipeline\n",
    "\n",
    "classifier = pipeline(\n",
    "    \"zero-shot-classification\",\n",
    "    model=\"facebook/bart-large-mnli\",\n",
    "    device=0  \n",
    ")"
   ]
  },
  {
   "cell_type": "code",
   "execution_count": 47,
   "metadata": {
    "id": "jk08WN3R_q9P"
   },
   "outputs": [],
   "source": [
    "candidate_labels = ['rolling', 'exclusive', 'scientist', 'industry dynamics', ' innovation', 'exploration discovery', 'medicine & health', 'aerospace']"
   ]
  },
  {
   "cell_type": "markdown",
   "metadata": {
    "id": "B3JE3DilBJpH"
   },
   "source": [
    "## Labeling "
   ]
  },
  {
   "cell_type": "code",
   "execution_count": 72,
   "metadata": {
    "colab": {
     "base_uri": "https://localhost:8080/",
     "height": 17
    },
    "id": "MbDzzrC4Jq6H",
    "outputId": "16104abf-4634-490c-ef78-bd127494c88b"
   },
   "outputs": [
    {
     "data": {
      "application/javascript": [
       "\n",
       "    async function download(id, filename, size) {\n",
       "      if (!google.colab.kernel.accessAllowed) {\n",
       "        return;\n",
       "      }\n",
       "      const div = document.createElement('div');\n",
       "      const label = document.createElement('label');\n",
       "      label.textContent = `Downloading \"${filename}\": `;\n",
       "      div.appendChild(label);\n",
       "      const progress = document.createElement('progress');\n",
       "      progress.max = size;\n",
       "      div.appendChild(progress);\n",
       "      document.body.appendChild(div);\n",
       "\n",
       "      const buffers = [];\n",
       "      let downloaded = 0;\n",
       "\n",
       "      const channel = await google.colab.kernel.comms.open(id);\n",
       "      // Send a message to notify the kernel that we're ready.\n",
       "      channel.send({})\n",
       "\n",
       "      for await (const message of channel.messages) {\n",
       "        // Send a message to notify the kernel that we're ready.\n",
       "        channel.send({})\n",
       "        if (message.buffers) {\n",
       "          for (const buffer of message.buffers) {\n",
       "            buffers.push(buffer);\n",
       "            downloaded += buffer.byteLength;\n",
       "            progress.value = downloaded;\n",
       "          }\n",
       "        }\n",
       "      }\n",
       "      const blob = new Blob(buffers, {type: 'application/binary'});\n",
       "      const a = document.createElement('a');\n",
       "      a.href = window.URL.createObjectURL(blob);\n",
       "      a.download = filename;\n",
       "      div.appendChild(a);\n",
       "      a.click();\n",
       "      div.remove();\n",
       "    }\n",
       "  "
      ],
      "text/plain": [
       "<IPython.core.display.Javascript object>"
      ]
     },
     "metadata": {},
     "output_type": "display_data"
    },
    {
     "data": {
      "application/javascript": [
       "download(\"download_3dc884af-e8a8-4af3-a547-07fcac6cd6c8\", \"news_labeled.csv\", 3487580)"
      ],
      "text/plain": [
       "<IPython.core.display.Javascript object>"
      ]
     },
     "metadata": {},
     "output_type": "display_data"
    }
   ],
   "source": [
    "news['news_column'] = news['article'].apply(lambda x: classifier(x, candidate_labels)['labels'][0])"
   ]
  },
  {
   "cell_type": "code",
   "execution_count": 61,
   "metadata": {},
   "outputs": [
    {
     "data": {
      "text/html": [
       "<div>\n",
       "<style scoped>\n",
       "    .dataframe tbody tr th:only-of-type {\n",
       "        vertical-align: middle;\n",
       "    }\n",
       "\n",
       "    .dataframe tbody tr th {\n",
       "        vertical-align: top;\n",
       "    }\n",
       "\n",
       "    .dataframe thead th {\n",
       "        text-align: right;\n",
       "    }\n",
       "</style>\n",
       "<table border=\"1\" class=\"dataframe\">\n",
       "  <thead>\n",
       "    <tr style=\"text-align: right;\">\n",
       "      <th></th>\n",
       "      <th>title</th>\n",
       "      <th>date</th>\n",
       "      <th>url</th>\n",
       "      <th>article</th>\n",
       "      <th>news_column</th>\n",
       "    </tr>\n",
       "  </thead>\n",
       "  <tbody>\n",
       "    <tr>\n",
       "      <th>0</th>\n",
       "      <td>country first innovation center new power syst...</td>\n",
       "      <td>2024-07-15</td>\n",
       "      <td>http://en.people.cn/n3/2024/0715/c90000-201939...</td>\n",
       "      <td>photo shows innovation center new power system...</td>\n",
       "      <td>innovation</td>\n",
       "    </tr>\n",
       "    <tr>\n",
       "      <th>1</th>\n",
       "      <td>th china beijing international high tech expo ...</td>\n",
       "      <td>2024-07-15</td>\n",
       "      <td>http://en.people.cn/n3/2024/0715/c90000-201938...</td>\n",
       "      <td>vertical take-off landing drone display th chi...</td>\n",
       "      <td>innovation</td>\n",
       "    </tr>\n",
       "    <tr>\n",
       "      <th>2</th>\n",
       "      <td>china tech innovations benefit electricity dev...</td>\n",
       "      <td>2024-07-15</td>\n",
       "      <td>http://en.people.cn/n3/2024/0715/c90000-201938...</td>\n",
       "      <td>beijing july  xinhua china technological foref...</td>\n",
       "      <td>innovation</td>\n",
       "    </tr>\n",
       "    <tr>\n",
       "      <th>3</th>\n",
       "      <td>diverse applications new technologies display ...</td>\n",
       "      <td>2024-07-15</td>\n",
       "      <td>http://en.people.cn/n3/2024/0715/c90000-201938...</td>\n",
       "      <td>world ai ference waic high-level meeting glob...</td>\n",
       "      <td>industry dynamics</td>\n",
       "    </tr>\n",
       "    <tr>\n",
       "      <th>4</th>\n",
       "      <td>ai used help preserve china oldest wooden pagoda</td>\n",
       "      <td>2024-07-15</td>\n",
       "      <td>http://en.people.cn/n3/2024/0715/c90000-201936...</td>\n",
       "      <td>sakyamuni pagoda also known yingxian wooden pa...</td>\n",
       "      <td>industry dynamics</td>\n",
       "    </tr>\n",
       "  </tbody>\n",
       "</table>\n",
       "</div>"
      ],
      "text/plain": [
       "                                               title        date  \\\n",
       "0  country first innovation center new power syst...  2024-07-15   \n",
       "1  th china beijing international high tech expo ...  2024-07-15   \n",
       "2  china tech innovations benefit electricity dev...  2024-07-15   \n",
       "3  diverse applications new technologies display ...  2024-07-15   \n",
       "4   ai used help preserve china oldest wooden pagoda  2024-07-15   \n",
       "\n",
       "                                                 url  \\\n",
       "0  http://en.people.cn/n3/2024/0715/c90000-201939...   \n",
       "1  http://en.people.cn/n3/2024/0715/c90000-201938...   \n",
       "2  http://en.people.cn/n3/2024/0715/c90000-201938...   \n",
       "3  http://en.people.cn/n3/2024/0715/c90000-201938...   \n",
       "4  http://en.people.cn/n3/2024/0715/c90000-201936...   \n",
       "\n",
       "                                             article        news_column  \n",
       "0  photo shows innovation center new power system...         innovation  \n",
       "1  vertical take-off landing drone display th chi...         innovation  \n",
       "2  beijing july  xinhua china technological foref...         innovation  \n",
       "3   world ai ference waic high-level meeting glob...  industry dynamics  \n",
       "4  sakyamuni pagoda also known yingxian wooden pa...  industry dynamics  "
      ]
     },
     "execution_count": 61,
     "metadata": {},
     "output_type": "execute_result"
    }
   ],
   "source": [
    "news.head()"
   ]
  },
  {
   "cell_type": "code",
   "execution_count": 79,
   "metadata": {},
   "outputs": [
    {
     "data": {
      "text/plain": [
       "Index(['title', 'date', 'url', 'article', 'news_column'], dtype='object')"
      ]
     },
     "execution_count": 79,
     "metadata": {},
     "output_type": "execute_result"
    }
   ],
   "source": [
    "news.columns"
   ]
  },
  {
   "cell_type": "markdown",
   "metadata": {},
   "source": [
    "## Save as `news_labeled.csv`"
   ]
  },
  {
   "cell_type": "code",
   "execution_count": null,
   "metadata": {
    "id": "5qtoHr0KDkRl"
   },
   "outputs": [],
   "source": [
    "news.to_csv('../data/labeled/news_labeled.csv', index=False)"
   ]
  }
 ],
 "metadata": {
  "accelerator": "GPU",
  "colab": {
   "gpuType": "T4",
   "provenance": []
  },
  "kernelspec": {
   "display_name": "Python 3 (ipykernel)",
   "language": "python",
   "name": "python3"
  },
  "language_info": {
   "codemirror_mode": {
    "name": "ipython",
    "version": 3
   },
   "file_extension": ".py",
   "mimetype": "text/x-python",
   "name": "python",
   "nbconvert_exporter": "python",
   "pygments_lexer": "ipython3",
   "version": "3.12.4"
  }
 },
 "nbformat": 4,
 "nbformat_minor": 4
}
