{
 "cells": [
  {
   "cell_type": "markdown",
   "id": "97636288-7492-4f82-93da-99d1333d10b1",
   "metadata": {},
   "source": [
    "# 03.Data Preprocessing"
   ]
  },
  {
   "cell_type": "code",
   "execution_count": 1,
   "id": "e6d8d05f-f605-47f1-99bb-496066eb184f",
   "metadata": {},
   "outputs": [],
   "source": [
    "import numpy as np\n",
    "import pandas as pd\n",
    "import os\n",
    "\n",
    "import seaborn as sns\n",
    "import matplotlib.pyplot as plt\n",
    "\n",
    "import re\n",
    "import nltk"
   ]
  },
  {
   "cell_type": "code",
   "execution_count": 2,
   "id": "ae2f4bec-499b-4f3a-9697-050019eedb5f",
   "metadata": {},
   "outputs": [
    {
     "data": {
      "text/html": [
       "<div>\n",
       "<style scoped>\n",
       "    .dataframe tbody tr th:only-of-type {\n",
       "        vertical-align: middle;\n",
       "    }\n",
       "\n",
       "    .dataframe tbody tr th {\n",
       "        vertical-align: top;\n",
       "    }\n",
       "\n",
       "    .dataframe thead th {\n",
       "        text-align: right;\n",
       "    }\n",
       "</style>\n",
       "<table border=\"1\" class=\"dataframe\">\n",
       "  <thead>\n",
       "    <tr style=\"text-align: right;\">\n",
       "      <th></th>\n",
       "      <th>Title</th>\n",
       "      <th>Date</th>\n",
       "      <th>URL</th>\n",
       "      <th>Article</th>\n",
       "    </tr>\n",
       "  </thead>\n",
       "  <tbody>\n",
       "    <tr>\n",
       "      <th>0</th>\n",
       "      <td>Country  first innovation center for the new p...</td>\n",
       "      <td>2024-07-15</td>\n",
       "      <td>http://en.people.cn/n3/2024/0715/c90000-201939...</td>\n",
       "      <td>Photo shows the innovation center for the n...</td>\n",
       "    </tr>\n",
       "    <tr>\n",
       "      <th>1</th>\n",
       "      <td>26th China Beijing International High tech Exp...</td>\n",
       "      <td>2024-07-15</td>\n",
       "      <td>http://en.people.cn/n3/2024/0715/c90000-201938...</td>\n",
       "      <td>A vertical take-off and landing drone is on...</td>\n",
       "    </tr>\n",
       "    <tr>\n",
       "      <th>2</th>\n",
       "      <td>China  tech innovations benefit electricity de...</td>\n",
       "      <td>2024-07-15</td>\n",
       "      <td>http://en.people.cn/n3/2024/0715/c90000-201938...</td>\n",
       "      <td>BEIJING  July 15  Xinhua    China is at the ...</td>\n",
       "    </tr>\n",
       "    <tr>\n",
       "      <th>3</th>\n",
       "      <td>Diverse applications of new technologies on di...</td>\n",
       "      <td>2024-07-15</td>\n",
       "      <td>http://en.people.cn/n3/2024/0715/c90000-201938...</td>\n",
       "      <td>The 2024 World AI  ference  WAIC  and High-L...</td>\n",
       "    </tr>\n",
       "    <tr>\n",
       "      <th>4</th>\n",
       "      <td>AI used to help preserve China  oldest wooden ...</td>\n",
       "      <td>2024-07-15</td>\n",
       "      <td>http://en.people.cn/n3/2024/0715/c90000-201936...</td>\n",
       "      <td>The Sakyamuni Pagoda  also known as the Yin...</td>\n",
       "    </tr>\n",
       "  </tbody>\n",
       "</table>\n",
       "</div>"
      ],
      "text/plain": [
       "                                               Title        Date  \\\n",
       "0  Country  first innovation center for the new p...  2024-07-15   \n",
       "1  26th China Beijing International High tech Exp...  2024-07-15   \n",
       "2  China  tech innovations benefit electricity de...  2024-07-15   \n",
       "3  Diverse applications of new technologies on di...  2024-07-15   \n",
       "4  AI used to help preserve China  oldest wooden ...  2024-07-15   \n",
       "\n",
       "                                                 URL  \\\n",
       "0  http://en.people.cn/n3/2024/0715/c90000-201939...   \n",
       "1  http://en.people.cn/n3/2024/0715/c90000-201938...   \n",
       "2  http://en.people.cn/n3/2024/0715/c90000-201938...   \n",
       "3  http://en.people.cn/n3/2024/0715/c90000-201938...   \n",
       "4  http://en.people.cn/n3/2024/0715/c90000-201936...   \n",
       "\n",
       "                                             Article  \n",
       "0     Photo shows the innovation center for the n...  \n",
       "1     A vertical take-off and landing drone is on...  \n",
       "2    BEIJING  July 15  Xinhua    China is at the ...  \n",
       "3    The 2024 World AI  ference  WAIC  and High-L...  \n",
       "4     The Sakyamuni Pagoda  also known as the Yin...  "
      ]
     },
     "execution_count": 2,
     "metadata": {},
     "output_type": "execute_result"
    }
   ],
   "source": [
    "news = pd.read_csv('../data/clean/news_dataset.csv')\n",
    "news.head()"
   ]
  },
  {
   "cell_type": "markdown",
   "id": "46c8b3b1-9643-47d1-bace-d836f498cd0b",
   "metadata": {},
   "source": [
    "## 1. Lowercasing text"
   ]
  },
  {
   "cell_type": "code",
   "execution_count": 6,
   "id": "4e079500-cc59-4df4-a450-ab69c7a3df0a",
   "metadata": {},
   "outputs": [
    {
     "data": {
      "text/plain": [
       "Index(['Title', 'Date', 'URL', 'Article'], dtype='object')"
      ]
     },
     "execution_count": 6,
     "metadata": {},
     "output_type": "execute_result"
    }
   ],
   "source": [
    "news.columns"
   ]
  },
  {
   "cell_type": "code",
   "execution_count": 8,
   "id": "6eb71bef-6be7-4ccc-80f4-3e2c4914ca60",
   "metadata": {},
   "outputs": [],
   "source": [
    "news.columns = news.columns.str.lower()"
   ]
  },
  {
   "cell_type": "code",
   "execution_count": 10,
   "id": "62d576fd-8be3-4d65-bd79-b6da1f8d1e44",
   "metadata": {},
   "outputs": [
    {
     "data": {
      "text/html": [
       "<div>\n",
       "<style scoped>\n",
       "    .dataframe tbody tr th:only-of-type {\n",
       "        vertical-align: middle;\n",
       "    }\n",
       "\n",
       "    .dataframe tbody tr th {\n",
       "        vertical-align: top;\n",
       "    }\n",
       "\n",
       "    .dataframe thead th {\n",
       "        text-align: right;\n",
       "    }\n",
       "</style>\n",
       "<table border=\"1\" class=\"dataframe\">\n",
       "  <thead>\n",
       "    <tr style=\"text-align: right;\">\n",
       "      <th></th>\n",
       "      <th>title</th>\n",
       "      <th>date</th>\n",
       "      <th>url</th>\n",
       "      <th>article</th>\n",
       "    </tr>\n",
       "  </thead>\n",
       "  <tbody>\n",
       "    <tr>\n",
       "      <th>0</th>\n",
       "      <td>Country  first innovation center for the new p...</td>\n",
       "      <td>2024-07-15</td>\n",
       "      <td>http://en.people.cn/n3/2024/0715/c90000-201939...</td>\n",
       "      <td>Photo shows the innovation center for the n...</td>\n",
       "    </tr>\n",
       "    <tr>\n",
       "      <th>1</th>\n",
       "      <td>26th China Beijing International High tech Exp...</td>\n",
       "      <td>2024-07-15</td>\n",
       "      <td>http://en.people.cn/n3/2024/0715/c90000-201938...</td>\n",
       "      <td>A vertical take-off and landing drone is on...</td>\n",
       "    </tr>\n",
       "    <tr>\n",
       "      <th>2</th>\n",
       "      <td>China  tech innovations benefit electricity de...</td>\n",
       "      <td>2024-07-15</td>\n",
       "      <td>http://en.people.cn/n3/2024/0715/c90000-201938...</td>\n",
       "      <td>BEIJING  July 15  Xinhua    China is at the ...</td>\n",
       "    </tr>\n",
       "    <tr>\n",
       "      <th>3</th>\n",
       "      <td>Diverse applications of new technologies on di...</td>\n",
       "      <td>2024-07-15</td>\n",
       "      <td>http://en.people.cn/n3/2024/0715/c90000-201938...</td>\n",
       "      <td>The 2024 World AI  ference  WAIC  and High-L...</td>\n",
       "    </tr>\n",
       "    <tr>\n",
       "      <th>4</th>\n",
       "      <td>AI used to help preserve China  oldest wooden ...</td>\n",
       "      <td>2024-07-15</td>\n",
       "      <td>http://en.people.cn/n3/2024/0715/c90000-201936...</td>\n",
       "      <td>The Sakyamuni Pagoda  also known as the Yin...</td>\n",
       "    </tr>\n",
       "  </tbody>\n",
       "</table>\n",
       "</div>"
      ],
      "text/plain": [
       "                                               title        date  \\\n",
       "0  Country  first innovation center for the new p...  2024-07-15   \n",
       "1  26th China Beijing International High tech Exp...  2024-07-15   \n",
       "2  China  tech innovations benefit electricity de...  2024-07-15   \n",
       "3  Diverse applications of new technologies on di...  2024-07-15   \n",
       "4  AI used to help preserve China  oldest wooden ...  2024-07-15   \n",
       "\n",
       "                                                 url  \\\n",
       "0  http://en.people.cn/n3/2024/0715/c90000-201939...   \n",
       "1  http://en.people.cn/n3/2024/0715/c90000-201938...   \n",
       "2  http://en.people.cn/n3/2024/0715/c90000-201938...   \n",
       "3  http://en.people.cn/n3/2024/0715/c90000-201938...   \n",
       "4  http://en.people.cn/n3/2024/0715/c90000-201936...   \n",
       "\n",
       "                                             article  \n",
       "0     Photo shows the innovation center for the n...  \n",
       "1     A vertical take-off and landing drone is on...  \n",
       "2    BEIJING  July 15  Xinhua    China is at the ...  \n",
       "3    The 2024 World AI  ference  WAIC  and High-L...  \n",
       "4     The Sakyamuni Pagoda  also known as the Yin...  "
      ]
     },
     "execution_count": 10,
     "metadata": {},
     "output_type": "execute_result"
    }
   ],
   "source": [
    "news.head()"
   ]
  },
  {
   "cell_type": "code",
   "execution_count": 12,
   "id": "013f671e-a704-45db-b0a9-1e12a524112c",
   "metadata": {},
   "outputs": [
    {
     "data": {
      "text/plain": [
       "0       country  first innovation center for the new p...\n",
       "1       26th china beijing international high tech exp...\n",
       "2       china  tech innovations benefit electricity de...\n",
       "3       diverse applications of new technologies on di...\n",
       "4       ai used to help preserve china  oldest wooden ...\n",
       "                              ...                        \n",
       "1484    china launches new remote sensing satellite group\n",
       "1485    china, africa continue deepening cooperation i...\n",
       "1486    china  tech firm huawei introduces ai initiati...\n",
       "1487    china launches key meteorological lab for ener...\n",
       "1488    china  ag600 amphibious aircraft completes fir...\n",
       "Name: title, Length: 1489, dtype: object"
      ]
     },
     "execution_count": 12,
     "metadata": {},
     "output_type": "execute_result"
    }
   ],
   "source": [
    "news['title'] = news['title'].str.lower()\n",
    "news['title']"
   ]
  },
  {
   "cell_type": "code",
   "execution_count": 14,
   "id": "cd1f3a35-c6d1-49f4-afd3-4020172cc746",
   "metadata": {},
   "outputs": [
    {
     "data": {
      "text/plain": [
       "0          photo shows the innovation center for the n...\n",
       "1          a vertical take-off and landing drone is on...\n",
       "2         beijing  july 15  xinhua    china is at the ...\n",
       "3         the 2024 world ai  ference  waic  and high-l...\n",
       "4          the sakyamuni pagoda  also known as the yin...\n",
       "                              ...                        \n",
       "1484       a long march-4b carrier rocket carrying a n...\n",
       "1485      in a banana seedling cultivation room of cro...\n",
       "1486       alan qi  president of huawei cloud middle e...\n",
       "1487      beijing  sept  2  xinhua    china has launch...\n",
       "1488       a china  ag600 large amphibious aircraft is...\n",
       "Name: article, Length: 1489, dtype: object"
      ]
     },
     "execution_count": 14,
     "metadata": {},
     "output_type": "execute_result"
    }
   ],
   "source": [
    "news['article'] = news['article'].str.lower()\n",
    "news['article']"
   ]
  },
  {
   "cell_type": "code",
   "execution_count": 25,
   "id": "415a0558-077a-40b0-bee6-ae7010de2e0f",
   "metadata": {},
   "outputs": [
    {
     "data": {
      "text/plain": [
       "'   photo shows the innovation center for the new power system in central china  hunan province  the first of this kind in the country that comprehensively showcases the achievements and technological equipment of the new power system    an innovation center for the new power system in central china  hunan province was officially launched on july 11  it is the first of its kind in china that comprehensively showcases the achievements and technological equipment of the new power system  the center was jointly constructed by state grid hunan electric power      and over 60 enterprises and universities  it took 170 days to complete   ering all aspects of the power system  including power generation  transmission  transformation  distribution  storage  and utilization  the center vividly demonstrates the latest technological innovation  model transformation  and green development of the new power system  the exhibition area of the center features company booths  with 60 enterprises currently being hosted  the initial group of companies to showcase their booths includes basf shanshan battery materials       beijing disaster prevention science and technology       crrc zhuzhou institute       tbea       and sany group  among others   the innovation center serves as a bridge  connecting universities  research institutes  and enterprises  this collaboration enables us to fully leverage the strengths of all parties involved under the leadership of state grid hunan electric power        said mei wenqing  deputy general manager of crrc zhuzhou institute      the innovation center has five main functions  first  it showcases the construction and operation of hunan  new power system  second  it acts as an emergency command center for the system  third  it promotes collaboration within the industry by providing a platform for discussions and negotiations  fourth  it hosts academic conferences for hunan  new power system  lastly  it serves as an educational base  sharing knowledge about the new power system with schools and social groups   photo shows the innovation center for the new power system in central china  hunan province  the first of this kind in china that comprehensively showcases the achievements and technological equipment of the new power system     '"
      ]
     },
     "execution_count": 25,
     "metadata": {},
     "output_type": "execute_result"
    }
   ],
   "source": [
    "news['article'].iloc[0]"
   ]
  },
  {
   "cell_type": "markdown",
   "id": "137463f0-8535-423d-8497-509bf6620126",
   "metadata": {},
   "source": [
    "## 2. Remove stop word"
   ]
  },
  {
   "cell_type": "code",
   "execution_count": 27,
   "id": "621e5f6b-849d-432f-9b1f-c6404c304f3e",
   "metadata": {},
   "outputs": [
    {
     "name": "stderr",
     "output_type": "stream",
     "text": [
      "[nltk_data] Downloading package stopwords to\n",
      "[nltk_data]     /Users/nagiur/nltk_data...\n",
      "[nltk_data]   Package stopwords is already up-to-date!\n"
     ]
    }
   ],
   "source": [
    "from nltk.corpus import stopwords\n",
    "nltk.download('stopwords')\n",
    "\n",
    "stop_words = set(stopwords.words('english'))"
   ]
  },
  {
   "cell_type": "code",
   "execution_count": 29,
   "id": "67cb3a46-37c4-45e4-a558-cd69facf64d2",
   "metadata": {},
   "outputs": [],
   "source": [
    "def remove_stop_words(text):\n",
    "    return ' '.join([word for word in text.split() if word.lower() not in stop_words])"
   ]
  },
  {
   "cell_type": "code",
   "execution_count": 31,
   "id": "4b3a6aac-82ae-4a5b-828e-b6cc136e09e3",
   "metadata": {},
   "outputs": [],
   "source": [
    "news['title'] = news['title'].apply(remove_stop_words)"
   ]
  },
  {
   "cell_type": "code",
   "execution_count": 33,
   "id": "71d9de94-6213-41e6-a613-8b89b40f73a3",
   "metadata": {},
   "outputs": [],
   "source": [
    "news['article'] = news['article'].apply(remove_stop_words)"
   ]
  },
  {
   "cell_type": "code",
   "execution_count": 35,
   "id": "ea69e89f-1c52-4e02-afc8-16be69375158",
   "metadata": {},
   "outputs": [
    {
     "data": {
      "text/plain": [
       "'country first innovation center new power system goes operation c china hunan'"
      ]
     },
     "execution_count": 35,
     "metadata": {},
     "output_type": "execute_result"
    }
   ],
   "source": [
    "news['title'].iloc[0]"
   ]
  },
  {
   "cell_type": "code",
   "execution_count": 37,
   "id": "fc65f885-2656-482f-aad3-d235d666bffb",
   "metadata": {},
   "outputs": [
    {
     "data": {
      "text/plain": [
       "'photo shows innovation center new power system central china hunan province first kind country comprehensively showcases achievements technological equipment new power system innovation center new power system central china hunan province officially launched july 11 first kind china comprehensively showcases achievements technological equipment new power system center jointly constructed state grid hunan electric power 60 enterprises universities took 170 days complete ering aspects power system including power generation transmission transformation distribution storage utilization center vividly demonstrates latest technological innovation model transformation green development new power system exhibition area center features company booths 60 enterprises currently hosted initial group companies showcase booths includes basf shanshan battery materials beijing disaster prevention science technology crrc zhuzhou institute tbea sany group among others innovation center serves bridge connecting universities research institutes enterprises collaboration enables us fully leverage strengths parties involved leadership state grid hunan electric power said mei wenqing deputy general manager crrc zhuzhou institute innovation center five main functions first showcases construction operation hunan new power system second acts emergency command center system third promotes collaboration within industry providing platform discussions negotiations fourth hosts academic conferences hunan new power system lastly serves educational base sharing knowledge new power system schools social groups photo shows innovation center new power system central china hunan province first kind china comprehensively showcases achievements technological equipment new power system'"
      ]
     },
     "execution_count": 37,
     "metadata": {},
     "output_type": "execute_result"
    }
   ],
   "source": [
    "news['article'].iloc[0]"
   ]
  },
  {
   "cell_type": "markdown",
   "id": "f4e76eee-e3fb-402a-ad95-3033842545b8",
   "metadata": {},
   "source": [
    "## 3. Remove `numbers`"
   ]
  },
  {
   "cell_type": "code",
   "execution_count": 40,
   "id": "1be58337-b558-49a4-ab74-4a8f650d68c6",
   "metadata": {},
   "outputs": [],
   "source": [
    "news['title'] = news['title'].apply(lambda x: re.sub(r'\\d+', '', x))"
   ]
  },
  {
   "cell_type": "code",
   "execution_count": 42,
   "id": "2f4446b6-06c2-474e-b4b7-6ac6bb69880e",
   "metadata": {},
   "outputs": [],
   "source": [
    "news['article'] = news['article'].apply(lambda x: re.sub(r'\\d+', '', x))"
   ]
  },
  {
   "cell_type": "code",
   "execution_count": 44,
   "id": "4c312811-589c-48d6-b52d-1786ba59b3cf",
   "metadata": {},
   "outputs": [
    {
     "data": {
      "text/plain": [
       "'country first innovation center new power system goes operation c china hunan'"
      ]
     },
     "execution_count": 44,
     "metadata": {},
     "output_type": "execute_result"
    }
   ],
   "source": [
    "news['title'].iloc[0]"
   ]
  },
  {
   "cell_type": "code",
   "execution_count": 46,
   "id": "f4ebc96e-f090-4701-a749-08072c331c23",
   "metadata": {},
   "outputs": [
    {
     "data": {
      "text/plain": [
       "'photo shows innovation center new power system central china hunan province first kind country comprehensively showcases achievements technological equipment new power system innovation center new power system central china hunan province officially launched july  first kind china comprehensively showcases achievements technological equipment new power system center jointly constructed state grid hunan electric power  enterprises universities took  days complete ering aspects power system including power generation transmission transformation distribution storage utilization center vividly demonstrates latest technological innovation model transformation green development new power system exhibition area center features company booths  enterprises currently hosted initial group companies showcase booths includes basf shanshan battery materials beijing disaster prevention science technology crrc zhuzhou institute tbea sany group among others innovation center serves bridge connecting universities research institutes enterprises collaboration enables us fully leverage strengths parties involved leadership state grid hunan electric power said mei wenqing deputy general manager crrc zhuzhou institute innovation center five main functions first showcases construction operation hunan new power system second acts emergency command center system third promotes collaboration within industry providing platform discussions negotiations fourth hosts academic conferences hunan new power system lastly serves educational base sharing knowledge new power system schools social groups photo shows innovation center new power system central china hunan province first kind china comprehensively showcases achievements technological equipment new power system'"
      ]
     },
     "execution_count": 46,
     "metadata": {},
     "output_type": "execute_result"
    }
   ],
   "source": [
    "news['article'].iloc[0]"
   ]
  },
  {
   "cell_type": "markdown",
   "id": "1dd62a3d-5005-4efc-8063-ded7314ada7e",
   "metadata": {},
   "source": [
    "## 4. Lemmatization or stemming"
   ]
  },
  {
   "cell_type": "code",
   "execution_count": 49,
   "id": "f8652cd1-81aa-456a-a7e0-59f96f16a9e1",
   "metadata": {},
   "outputs": [
    {
     "name": "stderr",
     "output_type": "stream",
     "text": [
      "[nltk_data] Downloading package wordnet to /Users/nagiur/nltk_data...\n",
      "[nltk_data]   Package wordnet is already up-to-date!\n"
     ]
    },
    {
     "data": {
      "text/plain": [
       "True"
      ]
     },
     "execution_count": 49,
     "metadata": {},
     "output_type": "execute_result"
    }
   ],
   "source": [
    "from nltk.stem import WordNetLemmatizer\n",
    "nltk.download('wordnet')"
   ]
  },
  {
   "cell_type": "code",
   "execution_count": 55,
   "id": "15e5206b-eac0-46ec-8c37-473963a4fb63",
   "metadata": {},
   "outputs": [],
   "source": [
    "lemmatizer = WordNetLemmatizer()\n",
    "\n",
    "def lemmatize_text(text):\n",
    "    words = nltk.word_tokenize(text)\n",
    "    lemmatized_words = [lemmatizer.lemmatize(word) for word in words]\n",
    "    return ' '.join(lemmatized_words)"
   ]
  },
  {
   "cell_type": "code",
   "execution_count": 59,
   "id": "9b0bfe6b-f571-4cce-aaab-de656426ddd6",
   "metadata": {},
   "outputs": [],
   "source": [
    "news['title'] = news['title'].apply(lemmatize_text)"
   ]
  },
  {
   "cell_type": "code",
   "execution_count": null,
   "id": "0e9941ca-63bf-4b2d-a545-8451d3ae9a7f",
   "metadata": {},
   "outputs": [],
   "source": [
    "news['article'] = news['article'].apply(lematize_text)"
   ]
  },
  {
   "cell_type": "code",
   "execution_count": null,
   "id": "87b1671a-3514-48ad-b5c5-8dd2048429c9",
   "metadata": {},
   "outputs": [],
   "source": [
    "news['title'].iloc[0]"
   ]
  },
  {
   "cell_type": "code",
   "execution_count": null,
   "id": "bdf48aa3-c71c-46c1-96d7-4cfe24831c61",
   "metadata": {},
   "outputs": [],
   "source": [
    "news['article'].iloc[0]"
   ]
  },
  {
   "cell_type": "markdown",
   "id": "8317b9ca-6719-4b17-a298-5109d1593f80",
   "metadata": {},
   "source": [
    "## 5. Handling contractions"
   ]
  },
  {
   "cell_type": "code",
   "execution_count": null,
   "id": "c2b1fd36-d384-4255-a35f-2cf4939246ee",
   "metadata": {},
   "outputs": [],
   "source": [
    "import contractions\n",
    "\n",
    "def expand_contractions(text):\n",
    "    return contractions.fix(text)"
   ]
  },
  {
   "cell_type": "code",
   "execution_count": null,
   "id": "cc12c4e1-0e0e-4589-b6f5-f98e9aa12e9b",
   "metadata": {},
   "outputs": [],
   "source": [
    "news['title'] = news['title'].apply(expand_contractions)"
   ]
  },
  {
   "cell_type": "code",
   "execution_count": null,
   "id": "9b6af202-a1be-46f9-a511-9dc938c3a734",
   "metadata": {},
   "outputs": [],
   "source": [
    "news['article'] = news['article'].apply(expand_contractions)"
   ]
  },
  {
   "cell_type": "code",
   "execution_count": null,
   "id": "f6847b59-548b-43a0-869c-e927e4450e29",
   "metadata": {},
   "outputs": [],
   "source": [
    "news['title'].iloc[0]"
   ]
  },
  {
   "cell_type": "code",
   "execution_count": null,
   "id": "9d112273-9e8a-494c-a093-a889432aaf3d",
   "metadata": {},
   "outputs": [],
   "source": [
    "news['article'].iloc[0]"
   ]
  },
  {
   "cell_type": "markdown",
   "id": "2558a975-ca75-41bb-b3d5-24bc1fdcad90",
   "metadata": {},
   "source": [
    "## 6. Removing extra whitespaces"
   ]
  },
  {
   "cell_type": "code",
   "execution_count": 159,
   "id": "ac41e3b3-031b-4123-b721-448f6a8a659e",
   "metadata": {},
   "outputs": [],
   "source": [
    "news['title'] = news['title'].apply(lambda x: x.strip())"
   ]
  },
  {
   "cell_type": "code",
   "execution_count": 161,
   "id": "4f6623ce-8619-442c-ad02-8b66dd92737b",
   "metadata": {},
   "outputs": [],
   "source": [
    "news['article'] = news['article'].apply(lambda x: x.strip())"
   ]
  },
  {
   "cell_type": "code",
   "execution_count": 163,
   "id": "52ed980f-56f3-428f-9808-f9cf80615e99",
   "metadata": {},
   "outputs": [
    {
     "data": {
      "text/plain": [
       "'country first innovation center new power system go operation c china hunan'"
      ]
     },
     "execution_count": 163,
     "metadata": {},
     "output_type": "execute_result"
    }
   ],
   "source": [
    "news['title'].iloc[0]"
   ]
  },
  {
   "cell_type": "code",
   "execution_count": 34,
   "id": "2c61e9ca-afb5-45fb-85e2-107a7651ba55",
   "metadata": {},
   "outputs": [
    {
     "data": {
      "text/plain": [
       "'photo shows innovation center new power system central china hunan province first kind country comprehensively showcases achievements technological equipment new power system innovation center new power system central china hunan province officially launched july  first kind china comprehensively showcases achievements technological equipment new power system center jointly constructed state grid hunan electric power  enterprises universities took  days complete ering aspects power system including power generation transmission transformation distribution storage utilization center vividly demonstrates latest technological innovation model transformation green development new power system exhibition area center features company booths  enterprises currently hosted initial group companies showcase booths includes basf shanshan battery materials beijing disaster prevention science technology crrc zhuzhou institute tbea sany group among others innovation center serves bridge connecting universities research institutes enterprises collaboration enables us fully leverage strengths parties involved leadership state grid hunan electric power said mei wenqing deputy general manager crrc zhuzhou institute innovation center five main functions first showcases construction operation hunan new power system second acts emergency command center system third promotes collaboration within industry providing platform discussions negotiations fourth hosts academic conferences hunan new power system lastly serves educational base sharing knowledge new power system schools social groups photo shows innovation center new power system central china hunan province first kind china comprehensively showcases achievements technological equipment new power system'"
      ]
     },
     "execution_count": 34,
     "metadata": {},
     "output_type": "execute_result"
    }
   ],
   "source": [
    "news['article'].iloc[0]"
   ]
  },
  {
   "cell_type": "markdown",
   "id": "f3d7dc70-83ea-41d3-bc03-284e7dfc8eeb",
   "metadata": {},
   "source": [
    "## Save as `preprocessed/news_preprocessed.csv`"
   ]
  },
  {
   "cell_type": "code",
   "execution_count": 47,
   "id": "afdb6b48-62d3-447f-9ea0-e5c5fa59277e",
   "metadata": {},
   "outputs": [],
   "source": [
    "news.to_csv('../data/preprocessed/news_preprocessed.csv', index=False)"
   ]
  }
 ],
 "metadata": {
  "kernelspec": {
   "display_name": "Python 3 (ipykernel)",
   "language": "python",
   "name": "python3"
  },
  "language_info": {
   "codemirror_mode": {
    "name": "ipython",
    "version": 3
   },
   "file_extension": ".py",
   "mimetype": "text/x-python",
   "name": "python",
   "nbconvert_exporter": "python",
   "pygments_lexer": "ipython3",
   "version": "3.12.4"
  }
 },
 "nbformat": 4,
 "nbformat_minor": 5
}
