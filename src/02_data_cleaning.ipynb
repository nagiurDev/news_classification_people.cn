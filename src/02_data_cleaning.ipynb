{
 "cells": [
  {
   "cell_type": "markdown",
   "id": "410176cb-feeb-4328-aa06-1db0da00e31e",
   "metadata": {},
   "source": [
    "# 02. Data Cleaning"
   ]
  },
  {
   "cell_type": "code",
   "execution_count": 2,
   "id": "8eee42a2-0c1f-4700-999d-7acf09b1f534",
   "metadata": {},
   "outputs": [],
   "source": [
    "import pandas as pd\n",
    "import glob\n",
    "import re\n",
    "import os"
   ]
  },
  {
   "cell_type": "markdown",
   "id": "5c01cac2-e607-442c-8095-89f913394916",
   "metadata": {},
   "source": [
    "## Read the 70 csv files together"
   ]
  },
  {
   "cell_type": "code",
   "execution_count": 4,
   "id": "06094898-1ff0-4dad-8d17-d9bbea72b17e",
   "metadata": {},
   "outputs": [],
   "source": [
    "news_page_all = glob.glob(\"../data/raw/*.csv\")"
   ]
  },
  {
   "cell_type": "code",
   "execution_count": 5,
   "id": "6196f652-d52b-4890-aa21-0b873a538bd6",
   "metadata": {},
   "outputs": [],
   "source": [
    "# news_page_all"
   ]
  },
  {
   "cell_type": "code",
   "execution_count": 6,
   "id": "d7ce67fa-14d8-4de3-a00f-34d307342a64",
   "metadata": {},
   "outputs": [],
   "source": [
    "df_list = []"
   ]
  },
  {
   "cell_type": "code",
   "execution_count": 7,
   "id": "9f8389f9-c2f5-4d30-937c-857320a64405",
   "metadata": {},
   "outputs": [],
   "source": [
    "for page in news_page_all:\n",
    "    # print(page)\n",
    "    df = pd.read_csv(page)\n",
    "    df_list.append(df)"
   ]
  },
  {
   "cell_type": "code",
   "execution_count": 11,
   "id": "59e051b5-d3cd-4c08-aa7e-4c9366e15d94",
   "metadata": {},
   "outputs": [],
   "source": [
    "news_dataset = pd.concat(df_list, ignore_index=False)"
   ]
  },
  {
   "cell_type": "code",
   "execution_count": 12,
   "id": "1882b826-fb51-4db2-9a4d-6fcf45e84f1a",
   "metadata": {},
   "outputs": [
    {
     "data": {
      "text/plain": [
       "1590"
      ]
     },
     "execution_count": 12,
     "metadata": {},
     "output_type": "execute_result"
    }
   ],
   "source": [
    "len(news_dataset)"
   ]
  },
  {
   "cell_type": "code",
   "execution_count": 17,
   "id": "c8dad634-f631-4ec5-9583-e7915b016236",
   "metadata": {},
   "outputs": [
    {
     "data": {
      "text/html": [
       "<div>\n",
       "<style scoped>\n",
       "    .dataframe tbody tr th:only-of-type {\n",
       "        vertical-align: middle;\n",
       "    }\n",
       "\n",
       "    .dataframe tbody tr th {\n",
       "        vertical-align: top;\n",
       "    }\n",
       "\n",
       "    .dataframe thead th {\n",
       "        text-align: right;\n",
       "    }\n",
       "</style>\n",
       "<table border=\"1\" class=\"dataframe\">\n",
       "  <thead>\n",
       "    <tr style=\"text-align: right;\">\n",
       "      <th></th>\n",
       "      <th>Title</th>\n",
       "      <th>Date</th>\n",
       "      <th>URL</th>\n",
       "      <th>Article</th>\n",
       "    </tr>\n",
       "  </thead>\n",
       "  <tbody>\n",
       "    <tr>\n",
       "      <th>count</th>\n",
       "      <td>1590</td>\n",
       "      <td>1590</td>\n",
       "      <td>1590</td>\n",
       "      <td>1590</td>\n",
       "    </tr>\n",
       "    <tr>\n",
       "      <th>unique</th>\n",
       "      <td>1474</td>\n",
       "      <td>271</td>\n",
       "      <td>1496</td>\n",
       "      <td>1483</td>\n",
       "    </tr>\n",
       "    <tr>\n",
       "      <th>top</th>\n",
       "      <td>China launches new remote sensing satellite</td>\n",
       "      <td>2024-07-26</td>\n",
       "      <td>http://en.people.cn/n3/2024/0724/c90000-201973...</td>\n",
       "      <td>Home&gt;&gt;\\n\\t\\t\\nChina's AG600 amphibious aircraf...</td>\n",
       "    </tr>\n",
       "    <tr>\n",
       "      <th>freq</th>\n",
       "      <td>5</td>\n",
       "      <td>22</td>\n",
       "      <td>3</td>\n",
       "      <td>6</td>\n",
       "    </tr>\n",
       "  </tbody>\n",
       "</table>\n",
       "</div>"
      ],
      "text/plain": [
       "                                              Title        Date  \\\n",
       "count                                          1590        1590   \n",
       "unique                                         1474         271   \n",
       "top     China launches new remote sensing satellite  2024-07-26   \n",
       "freq                                              5          22   \n",
       "\n",
       "                                                      URL  \\\n",
       "count                                                1590   \n",
       "unique                                               1496   \n",
       "top     http://en.people.cn/n3/2024/0724/c90000-201973...   \n",
       "freq                                                    3   \n",
       "\n",
       "                                                  Article  \n",
       "count                                                1590  \n",
       "unique                                               1483  \n",
       "top     Home>>\\n\\t\\t\\nChina's AG600 amphibious aircraf...  \n",
       "freq                                                    6  "
      ]
     },
     "execution_count": 17,
     "metadata": {},
     "output_type": "execute_result"
    }
   ],
   "source": [
    "news_dataset.describe()"
   ]
  },
  {
   "cell_type": "code",
   "execution_count": 19,
   "id": "b56462e7-bcb4-4b7b-882b-89a484482320",
   "metadata": {},
   "outputs": [
    {
     "data": {
      "text/html": [
       "<div>\n",
       "<style scoped>\n",
       "    .dataframe tbody tr th:only-of-type {\n",
       "        vertical-align: middle;\n",
       "    }\n",
       "\n",
       "    .dataframe tbody tr th {\n",
       "        vertical-align: top;\n",
       "    }\n",
       "\n",
       "    .dataframe thead th {\n",
       "        text-align: right;\n",
       "    }\n",
       "</style>\n",
       "<table border=\"1\" class=\"dataframe\">\n",
       "  <thead>\n",
       "    <tr style=\"text-align: right;\">\n",
       "      <th></th>\n",
       "      <th>Title</th>\n",
       "      <th>Date</th>\n",
       "      <th>URL</th>\n",
       "      <th>Article</th>\n",
       "    </tr>\n",
       "  </thead>\n",
       "  <tbody>\n",
       "    <tr>\n",
       "      <th>0</th>\n",
       "      <td>Country's first innovation center for the new ...</td>\n",
       "      <td>2024-07-15</td>\n",
       "      <td>http://en.people.cn/n3/2024/0715/c90000-201939...</td>\n",
       "      <td>Home&gt;&gt;\\n\\t\\t\\nCountry's first innovation cente...</td>\n",
       "    </tr>\n",
       "    <tr>\n",
       "      <th>1</th>\n",
       "      <td>Powering new quality productive forces: AI</td>\n",
       "      <td>2024-07-15</td>\n",
       "      <td>http://en.people.cn/n3/2024/0715/c90000-201939...</td>\n",
       "      <td>Home&gt;&gt;\\n\\t\\t\\nPowering new quality productive ...</td>\n",
       "    </tr>\n",
       "    <tr>\n",
       "      <th>2</th>\n",
       "      <td>26th China Beijing International High-tech Exp...</td>\n",
       "      <td>2024-07-15</td>\n",
       "      <td>http://en.people.cn/n3/2024/0715/c90000-201938...</td>\n",
       "      <td>Home&gt;&gt;\\n\\t\\t\\n26th China Beijing International...</td>\n",
       "    </tr>\n",
       "    <tr>\n",
       "      <th>3</th>\n",
       "      <td>China's tech innovations benefit electricity d...</td>\n",
       "      <td>2024-07-15</td>\n",
       "      <td>http://en.people.cn/n3/2024/0715/c90000-201938...</td>\n",
       "      <td>Home&gt;&gt;\\n\\t\\t\\nChina's tech innovations benefit...</td>\n",
       "    </tr>\n",
       "    <tr>\n",
       "      <th>4</th>\n",
       "      <td>Diverse applications of new technologies on di...</td>\n",
       "      <td>2024-07-15</td>\n",
       "      <td>http://en.people.cn/n3/2024/0715/c90000-201938...</td>\n",
       "      <td>Home&gt;&gt;\\n\\t\\t\\nDiverse applications of new tech...</td>\n",
       "    </tr>\n",
       "  </tbody>\n",
       "</table>\n",
       "</div>"
      ],
      "text/plain": [
       "                                               Title        Date  \\\n",
       "0  Country's first innovation center for the new ...  2024-07-15   \n",
       "1         Powering new quality productive forces: AI  2024-07-15   \n",
       "2  26th China Beijing International High-tech Exp...  2024-07-15   \n",
       "3  China's tech innovations benefit electricity d...  2024-07-15   \n",
       "4  Diverse applications of new technologies on di...  2024-07-15   \n",
       "\n",
       "                                                 URL  \\\n",
       "0  http://en.people.cn/n3/2024/0715/c90000-201939...   \n",
       "1  http://en.people.cn/n3/2024/0715/c90000-201939...   \n",
       "2  http://en.people.cn/n3/2024/0715/c90000-201938...   \n",
       "3  http://en.people.cn/n3/2024/0715/c90000-201938...   \n",
       "4  http://en.people.cn/n3/2024/0715/c90000-201938...   \n",
       "\n",
       "                                             Article  \n",
       "0  Home>>\\n\\t\\t\\nCountry's first innovation cente...  \n",
       "1  Home>>\\n\\t\\t\\nPowering new quality productive ...  \n",
       "2  Home>>\\n\\t\\t\\n26th China Beijing International...  \n",
       "3  Home>>\\n\\t\\t\\nChina's tech innovations benefit...  \n",
       "4  Home>>\\n\\t\\t\\nDiverse applications of new tech...  "
      ]
     },
     "execution_count": 19,
     "metadata": {},
     "output_type": "execute_result"
    }
   ],
   "source": [
    "news_dataset.head()"
   ]
  },
  {
   "cell_type": "code",
   "execution_count": 21,
   "id": "4cf2f88e-54c1-4963-a1b2-c034adb516cc",
   "metadata": {},
   "outputs": [
    {
     "data": {
      "text/plain": [
       "Index(['Title', 'Date', 'URL', 'Article'], dtype='object')"
      ]
     },
     "execution_count": 21,
     "metadata": {},
     "output_type": "execute_result"
    }
   ],
   "source": [
    "news_dataset.columns"
   ]
  },
  {
   "cell_type": "code",
   "execution_count": 23,
   "id": "111b4317-ce05-4e60-8529-b846af8b3797",
   "metadata": {},
   "outputs": [
    {
     "data": {
      "text/plain": [
       "(1590, 4)"
      ]
     },
     "execution_count": 23,
     "metadata": {},
     "output_type": "execute_result"
    }
   ],
   "source": [
    "news_dataset.shape"
   ]
  },
  {
   "cell_type": "code",
   "execution_count": 25,
   "id": "31db6a80-660a-412d-a2fb-619f0f0bd8b6",
   "metadata": {},
   "outputs": [
    {
     "data": {
      "text/plain": [
       "6360"
      ]
     },
     "execution_count": 25,
     "metadata": {},
     "output_type": "execute_result"
    }
   ],
   "source": [
    "news_dataset.size"
   ]
  },
  {
   "cell_type": "markdown",
   "id": "ea72a5d9-d799-4533-87f2-3fd20067b533",
   "metadata": {},
   "source": [
    "## Data Cleaning"
   ]
  },
  {
   "cell_type": "markdown",
   "id": "d1643200-1d23-4c25-a449-7f9a8cda44f0",
   "metadata": {},
   "source": [
    "### Removing duplicate values"
   ]
  },
  {
   "cell_type": "code",
   "execution_count": 29,
   "id": "d07d3ce6-c729-46cd-99aa-1138e8081b0c",
   "metadata": {},
   "outputs": [
    {
     "data": {
      "text/html": [
       "<div>\n",
       "<style scoped>\n",
       "    .dataframe tbody tr th:only-of-type {\n",
       "        vertical-align: middle;\n",
       "    }\n",
       "\n",
       "    .dataframe tbody tr th {\n",
       "        vertical-align: top;\n",
       "    }\n",
       "\n",
       "    .dataframe thead th {\n",
       "        text-align: right;\n",
       "    }\n",
       "</style>\n",
       "<table border=\"1\" class=\"dataframe\">\n",
       "  <thead>\n",
       "    <tr style=\"text-align: right;\">\n",
       "      <th></th>\n",
       "      <th>Title</th>\n",
       "      <th>Date</th>\n",
       "      <th>URL</th>\n",
       "      <th>Article</th>\n",
       "    </tr>\n",
       "  </thead>\n",
       "  <tbody>\n",
       "    <tr>\n",
       "      <th>0</th>\n",
       "      <td>Country's first innovation center for the new ...</td>\n",
       "      <td>2024-07-15</td>\n",
       "      <td>http://en.people.cn/n3/2024/0715/c90000-201939...</td>\n",
       "      <td>Home&gt;&gt;\\n\\t\\t\\nCountry's first innovation cente...</td>\n",
       "    </tr>\n",
       "    <tr>\n",
       "      <th>1</th>\n",
       "      <td>Powering new quality productive forces: AI</td>\n",
       "      <td>2024-07-15</td>\n",
       "      <td>http://en.people.cn/n3/2024/0715/c90000-201939...</td>\n",
       "      <td>Home&gt;&gt;\\n\\t\\t\\nPowering new quality productive ...</td>\n",
       "    </tr>\n",
       "    <tr>\n",
       "      <th>2</th>\n",
       "      <td>26th China Beijing International High-tech Exp...</td>\n",
       "      <td>2024-07-15</td>\n",
       "      <td>http://en.people.cn/n3/2024/0715/c90000-201938...</td>\n",
       "      <td>Home&gt;&gt;\\n\\t\\t\\n26th China Beijing International...</td>\n",
       "    </tr>\n",
       "    <tr>\n",
       "      <th>3</th>\n",
       "      <td>China's tech innovations benefit electricity d...</td>\n",
       "      <td>2024-07-15</td>\n",
       "      <td>http://en.people.cn/n3/2024/0715/c90000-201938...</td>\n",
       "      <td>Home&gt;&gt;\\n\\t\\t\\nChina's tech innovations benefit...</td>\n",
       "    </tr>\n",
       "    <tr>\n",
       "      <th>4</th>\n",
       "      <td>Diverse applications of new technologies on di...</td>\n",
       "      <td>2024-07-15</td>\n",
       "      <td>http://en.people.cn/n3/2024/0715/c90000-201938...</td>\n",
       "      <td>Home&gt;&gt;\\n\\t\\t\\nDiverse applications of new tech...</td>\n",
       "    </tr>\n",
       "    <tr>\n",
       "      <th>...</th>\n",
       "      <td>...</td>\n",
       "      <td>...</td>\n",
       "      <td>...</td>\n",
       "      <td>...</td>\n",
       "    </tr>\n",
       "    <tr>\n",
       "      <th>30</th>\n",
       "      <td>China launches new remote sensing satellite group</td>\n",
       "      <td>2024-09-03</td>\n",
       "      <td>http://en.people.cn/n3/2024/0903/c90000-202137...</td>\n",
       "      <td>Home&gt;&gt;\\n\\t\\t\\nChina launches new remote sensin...</td>\n",
       "    </tr>\n",
       "    <tr>\n",
       "      <th>32</th>\n",
       "      <td>China, Africa continue deepening cooperation i...</td>\n",
       "      <td>2024-09-03</td>\n",
       "      <td>http://en.people.cn/n3/2024/0903/c90000-202136...</td>\n",
       "      <td>Home&gt;&gt;\\n\\t\\t\\nChina, Africa continue deepening...</td>\n",
       "    </tr>\n",
       "    <tr>\n",
       "      <th>34</th>\n",
       "      <td>China's tech firm Huawei introduces AI initiat...</td>\n",
       "      <td>2024-09-03</td>\n",
       "      <td>http://en.people.cn/n3/2024/0903/c90000-202134...</td>\n",
       "      <td>Home&gt;&gt;\\n\\t\\t\\nChina's tech firm Huawei introdu...</td>\n",
       "    </tr>\n",
       "    <tr>\n",
       "      <th>36</th>\n",
       "      <td>China launches key meteorological lab for ener...</td>\n",
       "      <td>2024-09-03</td>\n",
       "      <td>http://en.people.cn/n3/2024/0903/c90000-202134...</td>\n",
       "      <td>Home&gt;&gt;\\n\\t\\t\\nChina launches key meteorologica...</td>\n",
       "    </tr>\n",
       "    <tr>\n",
       "      <th>38</th>\n",
       "      <td>China's AG600 amphibious aircraft completes fi...</td>\n",
       "      <td>2024-09-02</td>\n",
       "      <td>http://en.people.cn/n3/2024/0902/c90000-202130...</td>\n",
       "      <td>Home&gt;&gt;\\n\\t\\t\\nChina's AG600 amphibious aircraf...</td>\n",
       "    </tr>\n",
       "  </tbody>\n",
       "</table>\n",
       "<p>1496 rows × 4 columns</p>\n",
       "</div>"
      ],
      "text/plain": [
       "                                                Title        Date  \\\n",
       "0   Country's first innovation center for the new ...  2024-07-15   \n",
       "1          Powering new quality productive forces: AI  2024-07-15   \n",
       "2   26th China Beijing International High-tech Exp...  2024-07-15   \n",
       "3   China's tech innovations benefit electricity d...  2024-07-15   \n",
       "4   Diverse applications of new technologies on di...  2024-07-15   \n",
       "..                                                ...         ...   \n",
       "30  China launches new remote sensing satellite group  2024-09-03   \n",
       "32  China, Africa continue deepening cooperation i...  2024-09-03   \n",
       "34  China's tech firm Huawei introduces AI initiat...  2024-09-03   \n",
       "36  China launches key meteorological lab for ener...  2024-09-03   \n",
       "38  China's AG600 amphibious aircraft completes fi...  2024-09-02   \n",
       "\n",
       "                                                  URL  \\\n",
       "0   http://en.people.cn/n3/2024/0715/c90000-201939...   \n",
       "1   http://en.people.cn/n3/2024/0715/c90000-201939...   \n",
       "2   http://en.people.cn/n3/2024/0715/c90000-201938...   \n",
       "3   http://en.people.cn/n3/2024/0715/c90000-201938...   \n",
       "4   http://en.people.cn/n3/2024/0715/c90000-201938...   \n",
       "..                                                ...   \n",
       "30  http://en.people.cn/n3/2024/0903/c90000-202137...   \n",
       "32  http://en.people.cn/n3/2024/0903/c90000-202136...   \n",
       "34  http://en.people.cn/n3/2024/0903/c90000-202134...   \n",
       "36  http://en.people.cn/n3/2024/0903/c90000-202134...   \n",
       "38  http://en.people.cn/n3/2024/0902/c90000-202130...   \n",
       "\n",
       "                                              Article  \n",
       "0   Home>>\\n\\t\\t\\nCountry's first innovation cente...  \n",
       "1   Home>>\\n\\t\\t\\nPowering new quality productive ...  \n",
       "2   Home>>\\n\\t\\t\\n26th China Beijing International...  \n",
       "3   Home>>\\n\\t\\t\\nChina's tech innovations benefit...  \n",
       "4   Home>>\\n\\t\\t\\nDiverse applications of new tech...  \n",
       "..                                                ...  \n",
       "30  Home>>\\n\\t\\t\\nChina launches new remote sensin...  \n",
       "32  Home>>\\n\\t\\t\\nChina, Africa continue deepening...  \n",
       "34  Home>>\\n\\t\\t\\nChina's tech firm Huawei introdu...  \n",
       "36  Home>>\\n\\t\\t\\nChina launches key meteorologica...  \n",
       "38  Home>>\\n\\t\\t\\nChina's AG600 amphibious aircraf...  \n",
       "\n",
       "[1496 rows x 4 columns]"
      ]
     },
     "execution_count": 29,
     "metadata": {},
     "output_type": "execute_result"
    }
   ],
   "source": [
    "news_dataset = news_dataset.drop_duplicates()\n",
    "news_dataset"
   ]
  },
  {
   "cell_type": "markdown",
   "id": "bec3e592-ad9a-4439-b7dd-7096b5145f57",
   "metadata": {},
   "source": [
    "### Drop missing values"
   ]
  },
  {
   "cell_type": "code",
   "execution_count": 32,
   "id": "6d8b7a27-b6fa-487e-8d5b-dea15cf2d3e8",
   "metadata": {},
   "outputs": [
    {
     "data": {
      "text/html": [
       "<div>\n",
       "<style scoped>\n",
       "    .dataframe tbody tr th:only-of-type {\n",
       "        vertical-align: middle;\n",
       "    }\n",
       "\n",
       "    .dataframe tbody tr th {\n",
       "        vertical-align: top;\n",
       "    }\n",
       "\n",
       "    .dataframe thead th {\n",
       "        text-align: right;\n",
       "    }\n",
       "</style>\n",
       "<table border=\"1\" class=\"dataframe\">\n",
       "  <thead>\n",
       "    <tr style=\"text-align: right;\">\n",
       "      <th></th>\n",
       "      <th>Title</th>\n",
       "      <th>Date</th>\n",
       "      <th>URL</th>\n",
       "      <th>Article</th>\n",
       "    </tr>\n",
       "  </thead>\n",
       "  <tbody>\n",
       "    <tr>\n",
       "      <th>0</th>\n",
       "      <td>Country's first innovation center for the new ...</td>\n",
       "      <td>2024-07-15</td>\n",
       "      <td>http://en.people.cn/n3/2024/0715/c90000-201939...</td>\n",
       "      <td>Home&gt;&gt;\\n\\t\\t\\nCountry's first innovation cente...</td>\n",
       "    </tr>\n",
       "    <tr>\n",
       "      <th>1</th>\n",
       "      <td>Powering new quality productive forces: AI</td>\n",
       "      <td>2024-07-15</td>\n",
       "      <td>http://en.people.cn/n3/2024/0715/c90000-201939...</td>\n",
       "      <td>Home&gt;&gt;\\n\\t\\t\\nPowering new quality productive ...</td>\n",
       "    </tr>\n",
       "    <tr>\n",
       "      <th>2</th>\n",
       "      <td>26th China Beijing International High-tech Exp...</td>\n",
       "      <td>2024-07-15</td>\n",
       "      <td>http://en.people.cn/n3/2024/0715/c90000-201938...</td>\n",
       "      <td>Home&gt;&gt;\\n\\t\\t\\n26th China Beijing International...</td>\n",
       "    </tr>\n",
       "    <tr>\n",
       "      <th>3</th>\n",
       "      <td>China's tech innovations benefit electricity d...</td>\n",
       "      <td>2024-07-15</td>\n",
       "      <td>http://en.people.cn/n3/2024/0715/c90000-201938...</td>\n",
       "      <td>Home&gt;&gt;\\n\\t\\t\\nChina's tech innovations benefit...</td>\n",
       "    </tr>\n",
       "    <tr>\n",
       "      <th>4</th>\n",
       "      <td>Diverse applications of new technologies on di...</td>\n",
       "      <td>2024-07-15</td>\n",
       "      <td>http://en.people.cn/n3/2024/0715/c90000-201938...</td>\n",
       "      <td>Home&gt;&gt;\\n\\t\\t\\nDiverse applications of new tech...</td>\n",
       "    </tr>\n",
       "    <tr>\n",
       "      <th>...</th>\n",
       "      <td>...</td>\n",
       "      <td>...</td>\n",
       "      <td>...</td>\n",
       "      <td>...</td>\n",
       "    </tr>\n",
       "    <tr>\n",
       "      <th>30</th>\n",
       "      <td>China launches new remote sensing satellite group</td>\n",
       "      <td>2024-09-03</td>\n",
       "      <td>http://en.people.cn/n3/2024/0903/c90000-202137...</td>\n",
       "      <td>Home&gt;&gt;\\n\\t\\t\\nChina launches new remote sensin...</td>\n",
       "    </tr>\n",
       "    <tr>\n",
       "      <th>32</th>\n",
       "      <td>China, Africa continue deepening cooperation i...</td>\n",
       "      <td>2024-09-03</td>\n",
       "      <td>http://en.people.cn/n3/2024/0903/c90000-202136...</td>\n",
       "      <td>Home&gt;&gt;\\n\\t\\t\\nChina, Africa continue deepening...</td>\n",
       "    </tr>\n",
       "    <tr>\n",
       "      <th>34</th>\n",
       "      <td>China's tech firm Huawei introduces AI initiat...</td>\n",
       "      <td>2024-09-03</td>\n",
       "      <td>http://en.people.cn/n3/2024/0903/c90000-202134...</td>\n",
       "      <td>Home&gt;&gt;\\n\\t\\t\\nChina's tech firm Huawei introdu...</td>\n",
       "    </tr>\n",
       "    <tr>\n",
       "      <th>36</th>\n",
       "      <td>China launches key meteorological lab for ener...</td>\n",
       "      <td>2024-09-03</td>\n",
       "      <td>http://en.people.cn/n3/2024/0903/c90000-202134...</td>\n",
       "      <td>Home&gt;&gt;\\n\\t\\t\\nChina launches key meteorologica...</td>\n",
       "    </tr>\n",
       "    <tr>\n",
       "      <th>38</th>\n",
       "      <td>China's AG600 amphibious aircraft completes fi...</td>\n",
       "      <td>2024-09-02</td>\n",
       "      <td>http://en.people.cn/n3/2024/0902/c90000-202130...</td>\n",
       "      <td>Home&gt;&gt;\\n\\t\\t\\nChina's AG600 amphibious aircraf...</td>\n",
       "    </tr>\n",
       "  </tbody>\n",
       "</table>\n",
       "<p>1496 rows × 4 columns</p>\n",
       "</div>"
      ],
      "text/plain": [
       "                                                Title        Date  \\\n",
       "0   Country's first innovation center for the new ...  2024-07-15   \n",
       "1          Powering new quality productive forces: AI  2024-07-15   \n",
       "2   26th China Beijing International High-tech Exp...  2024-07-15   \n",
       "3   China's tech innovations benefit electricity d...  2024-07-15   \n",
       "4   Diverse applications of new technologies on di...  2024-07-15   \n",
       "..                                                ...         ...   \n",
       "30  China launches new remote sensing satellite group  2024-09-03   \n",
       "32  China, Africa continue deepening cooperation i...  2024-09-03   \n",
       "34  China's tech firm Huawei introduces AI initiat...  2024-09-03   \n",
       "36  China launches key meteorological lab for ener...  2024-09-03   \n",
       "38  China's AG600 amphibious aircraft completes fi...  2024-09-02   \n",
       "\n",
       "                                                  URL  \\\n",
       "0   http://en.people.cn/n3/2024/0715/c90000-201939...   \n",
       "1   http://en.people.cn/n3/2024/0715/c90000-201939...   \n",
       "2   http://en.people.cn/n3/2024/0715/c90000-201938...   \n",
       "3   http://en.people.cn/n3/2024/0715/c90000-201938...   \n",
       "4   http://en.people.cn/n3/2024/0715/c90000-201938...   \n",
       "..                                                ...   \n",
       "30  http://en.people.cn/n3/2024/0903/c90000-202137...   \n",
       "32  http://en.people.cn/n3/2024/0903/c90000-202136...   \n",
       "34  http://en.people.cn/n3/2024/0903/c90000-202134...   \n",
       "36  http://en.people.cn/n3/2024/0903/c90000-202134...   \n",
       "38  http://en.people.cn/n3/2024/0902/c90000-202130...   \n",
       "\n",
       "                                              Article  \n",
       "0   Home>>\\n\\t\\t\\nCountry's first innovation cente...  \n",
       "1   Home>>\\n\\t\\t\\nPowering new quality productive ...  \n",
       "2   Home>>\\n\\t\\t\\n26th China Beijing International...  \n",
       "3   Home>>\\n\\t\\t\\nChina's tech innovations benefit...  \n",
       "4   Home>>\\n\\t\\t\\nDiverse applications of new tech...  \n",
       "..                                                ...  \n",
       "30  Home>>\\n\\t\\t\\nChina launches new remote sensin...  \n",
       "32  Home>>\\n\\t\\t\\nChina, Africa continue deepening...  \n",
       "34  Home>>\\n\\t\\t\\nChina's tech firm Huawei introdu...  \n",
       "36  Home>>\\n\\t\\t\\nChina launches key meteorologica...  \n",
       "38  Home>>\\n\\t\\t\\nChina's AG600 amphibious aircraf...  \n",
       "\n",
       "[1496 rows x 4 columns]"
      ]
     },
     "execution_count": 32,
     "metadata": {},
     "output_type": "execute_result"
    }
   ],
   "source": [
    "news_dataset = news_dataset.dropna()\n",
    "news_dataset"
   ]
  },
  {
   "cell_type": "code",
   "execution_count": 34,
   "id": "ff9da820-c2a4-4f8d-88bf-c224f9fae63e",
   "metadata": {},
   "outputs": [
    {
     "data": {
      "text/plain": [
       "0     Home>>\\n\\t\\t\\nCountry's first innovation cente...\n",
       "1     Home>>\\n\\t\\t\\nPowering new quality productive ...\n",
       "2     Home>>\\n\\t\\t\\n26th China Beijing International...\n",
       "3     Home>>\\n\\t\\t\\nChina's tech innovations benefit...\n",
       "4     Home>>\\n\\t\\t\\nDiverse applications of new tech...\n",
       "                            ...                        \n",
       "30    Home>>\\n\\t\\t\\nChina launches new remote sensin...\n",
       "32    Home>>\\n\\t\\t\\nChina, Africa continue deepening...\n",
       "34    Home>>\\n\\t\\t\\nChina's tech firm Huawei introdu...\n",
       "36    Home>>\\n\\t\\t\\nChina launches key meteorologica...\n",
       "38    Home>>\\n\\t\\t\\nChina's AG600 amphibious aircraf...\n",
       "Name: Article, Length: 1496, dtype: object"
      ]
     },
     "execution_count": 34,
     "metadata": {},
     "output_type": "execute_result"
    }
   ],
   "source": [
    "news_dataset[\"Article\"]"
   ]
  },
  {
   "cell_type": "markdown",
   "id": "d5b4c295-fe8b-4a77-9530-4d2ad2d0e60a",
   "metadata": {},
   "source": [
    "### Reduces unnessary information `news_dataset['Article']`"
   ]
  },
  {
   "cell_type": "code",
   "execution_count": 37,
   "id": "5935bb30-f52e-460a-934c-305d20148f88",
   "metadata": {},
   "outputs": [
    {
     "data": {
      "text/plain": [
       "'Home>>\\n\\t\\t\\nCountry\\'s first innovation center for the new power system goes into operation in C China\\'s Hunan\\n (People\\'s Daily Online) 16:57, July 15, 2024\\n\\nPhoto shows the innovation center for the new power system in central China\\'s Hunan Province, the first of this kind in the country that comprehensively showcases the achievements and technological equipment of the new power system. (Photo courtesy of the interviewee)\\nAn innovation center for the new power system in central China\\'s Hunan Province was officially launched on July 11. It is the first of its kind in China that comprehensively showcases the achievements and technological equipment of the new power system.\\nThe center was jointly constructed by State Grid Hunan Electric Power Co., Ltd. and over 60 enterprises and universities. It took 170 days to complete.\\nCovering all aspects of the power system, including power generation, transmission, transformation, distribution, storage, and utilization, the center vividly demonstrates the latest technological innovation, model transformation, and green development of the new power system.\\nThe exhibition area of the center features company booths, with 60 enterprises currently being hosted. The initial group of companies to showcase their booths includes BASF Shanshan Battery Materials Co., Ltd., Beijing Disaster Prevention Science and Technology Co., Ltd., CRRC Zhuzhou Institute Co., Ltd., TBEA Co., Ltd., and SANY Group, among others.\\n\"The innovation center serves as a bridge, connecting universities, research institutes, and enterprises. This collaboration enables us to fully leverage the strengths of all parties involved under the leadership of State Grid Hunan Electric Power Co., Ltd.,\" said Mei Wenqing, deputy general manager of CRRC Zhuzhou Institute Co., Ltd.\\nThe innovation center has five main functions. First, it showcases the construction and operation of Hunan\\'s new power system. Second, it acts as an emergency command center for the system. Third, it promotes collaboration within the industry by providing a platform for discussions and negotiations. Fourth, it hosts academic conferences for Hunan\\'s new power system. Lastly, it serves as an educational base, sharing knowledge about the new power system with schools and social groups.\\n\\nPhoto shows the innovation center for the new power system in central China\\'s Hunan Province, the first of this kind in China that comprehensively showcases the achievements and technological equipment of the new power system. (Photo courtesy of the interviewee)\\n(Web editor: Tian Yi, Hongyu)'"
      ]
     },
     "execution_count": 37,
     "metadata": {},
     "output_type": "execute_result"
    }
   ],
   "source": [
    "news_dataset[\"Article\"].iloc[0]"
   ]
  },
  {
   "cell_type": "code",
   "execution_count": 39,
   "id": "7c96ec06-a15f-4f02-9d36-996709f9e495",
   "metadata": {},
   "outputs": [
    {
     "data": {
      "text/plain": [
       "0     __replace__\\n\\nPhoto shows the innovation cent...\n",
       "1      __replace__\\n\\n(Web editor: Tian Yi, Wu Chaolan)\n",
       "2     __replace__\\n\\nA vertical take-off and landing...\n",
       "3     __replace__\\nBEIJING, July 15 (Xinhua) -- Chin...\n",
       "4     __replace__\\nThe 2024 World AI Conference (WAI...\n",
       "                            ...                        \n",
       "30    __replace__\\n\\nA Long March-4B carrier rocket ...\n",
       "32    __replace__\\nIn a banana seedling cultivation ...\n",
       "34    __replace__\\n\\nAlan Qi, president of Huawei Cl...\n",
       "36    __replace__\\nBEIJING, Sept. 2 (Xinhua) -- Chin...\n",
       "38    __replace__\\n\\nA China's AG600 large amphibiou...\n",
       "Name: Article, Length: 1496, dtype: object"
      ]
     },
     "execution_count": 39,
     "metadata": {},
     "output_type": "execute_result"
    }
   ],
   "source": [
    "pattern = r\"Home>>\\n\\t\\t\\n.*?\\d{1,2}:\\d{2}, [A-Za-z]+ \\d{1,2}, \\d{4}\"\n",
    "news_dataset['Article'].str.contains(pattern, regex=True).sum()\n",
    "news_dataset['Article'] = news_dataset['Article'].apply(lambda x: re.sub(pattern, \"__replace__\", x, flags=re.DOTALL))\n",
    "news_dataset['Article']"
   ]
  },
  {
   "cell_type": "code",
   "execution_count": 41,
   "id": "5fe1d160-836a-4462-b4a2-7d9349aff77c",
   "metadata": {},
   "outputs": [
    {
     "data": {
      "text/plain": [
       "'__replace__\\n\\nPhoto shows the innovation center for the new power system in central China\\'s Hunan Province, the first of this kind in the country that comprehensively showcases the achievements and technological equipment of the new power system. (Photo courtesy of the interviewee)\\nAn innovation center for the new power system in central China\\'s Hunan Province was officially launched on July 11. It is the first of its kind in China that comprehensively showcases the achievements and technological equipment of the new power system.\\nThe center was jointly constructed by State Grid Hunan Electric Power Co., Ltd. and over 60 enterprises and universities. It took 170 days to complete.\\nCovering all aspects of the power system, including power generation, transmission, transformation, distribution, storage, and utilization, the center vividly demonstrates the latest technological innovation, model transformation, and green development of the new power system.\\nThe exhibition area of the center features company booths, with 60 enterprises currently being hosted. The initial group of companies to showcase their booths includes BASF Shanshan Battery Materials Co., Ltd., Beijing Disaster Prevention Science and Technology Co., Ltd., CRRC Zhuzhou Institute Co., Ltd., TBEA Co., Ltd., and SANY Group, among others.\\n\"The innovation center serves as a bridge, connecting universities, research institutes, and enterprises. This collaboration enables us to fully leverage the strengths of all parties involved under the leadership of State Grid Hunan Electric Power Co., Ltd.,\" said Mei Wenqing, deputy general manager of CRRC Zhuzhou Institute Co., Ltd.\\nThe innovation center has five main functions. First, it showcases the construction and operation of Hunan\\'s new power system. Second, it acts as an emergency command center for the system. Third, it promotes collaboration within the industry by providing a platform for discussions and negotiations. Fourth, it hosts academic conferences for Hunan\\'s new power system. Lastly, it serves as an educational base, sharing knowledge about the new power system with schools and social groups.\\n\\nPhoto shows the innovation center for the new power system in central China\\'s Hunan Province, the first of this kind in China that comprehensively showcases the achievements and technological equipment of the new power system. (Photo courtesy of the interviewee)\\n(Web editor: Tian Yi, Hongyu)'"
      ]
     },
     "execution_count": 41,
     "metadata": {},
     "output_type": "execute_result"
    }
   ],
   "source": [
    "pattern = r\"\\(Photo: .*?\\)\"\n",
    "news_dataset['Article'].str.contains(pattern, regex=True).sum()\n",
    "news_dataset['Article'] = news_dataset['Article'].apply(lambda x: re.sub(pattern, \"__replace__\", x, flags=re.DOTALL))\n",
    "news_dataset['Article'].iloc[0]"
   ]
  },
  {
   "cell_type": "code",
   "execution_count": 43,
   "id": "3e45340c-06ec-4fc2-9850-23f3cf0d8a1a",
   "metadata": {},
   "outputs": [
    {
     "data": {
      "text/plain": [
       "'__replace__\\n\\nPhoto shows the innovation center for the new power system in central China\\'s Hunan Province, the first of this kind in the country that comprehensively showcases the achievements and technological equipment of the new power system. (Photo courtesy of the interviewee)\\nAn innovation center for the new power system in central China\\'s Hunan Province was officially launched on July 11. It is the first of its kind in China that comprehensively showcases the achievements and technological equipment of the new power system.\\nThe center was jointly constructed by State Grid Hunan Electric Power Co., Ltd. and over 60 enterprises and universities. It took 170 days to complete.\\nCovering all aspects of the power system, including power generation, transmission, transformation, distribution, storage, and utilization, the center vividly demonstrates the latest technological innovation, model transformation, and green development of the new power system.\\nThe exhibition area of the center features company booths, with 60 enterprises currently being hosted. The initial group of companies to showcase their booths includes BASF Shanshan Battery Materials Co., Ltd., Beijing Disaster Prevention Science and Technology Co., Ltd., CRRC Zhuzhou Institute Co., Ltd., TBEA Co., Ltd., and SANY Group, among others.\\n\"The innovation center serves as a bridge, connecting universities, research institutes, and enterprises. This collaboration enables us to fully leverage the strengths of all parties involved under the leadership of State Grid Hunan Electric Power Co., Ltd.,\" said Mei Wenqing, deputy general manager of CRRC Zhuzhou Institute Co., Ltd.\\nThe innovation center has five main functions. First, it showcases the construction and operation of Hunan\\'s new power system. Second, it acts as an emergency command center for the system. Third, it promotes collaboration within the industry by providing a platform for discussions and negotiations. Fourth, it hosts academic conferences for Hunan\\'s new power system. Lastly, it serves as an educational base, sharing knowledge about the new power system with schools and social groups.\\n\\nPhoto shows the innovation center for the new power system in central China\\'s Hunan Province, the first of this kind in China that comprehensively showcases the achievements and technological equipment of the new power system. (Photo courtesy of the interviewee)\\n(Web editor: Tian Yi, Hongyu)'"
      ]
     },
     "execution_count": 43,
     "metadata": {},
     "output_type": "execute_result"
    }
   ],
   "source": [
    "pattern = r\"\\(Photo: .*?\\)\"\n",
    "news_dataset['Article'].str.contains(pattern, regex=True).sum()\n",
    "news_dataset['Article'] = news_dataset['Article'].apply(lambda x: re.sub(pattern, \"__replace__\", x, flags=re.DOTALL))\n",
    "news_dataset['Article'].iloc[0]"
   ]
  },
  {
   "cell_type": "code",
   "execution_count": 45,
   "id": "c14c1fee-7557-4687-8797-66ec501fcb5a",
   "metadata": {},
   "outputs": [
    {
     "name": "stdout",
     "output_type": "stream",
     "text": [
      "1496\n"
     ]
    },
    {
     "data": {
      "text/plain": [
       "'__replace__\\n\\nPhoto shows the innovation center for the new power system in central China\\'s Hunan Province, the first of this kind in the country that comprehensively showcases the achievements and technological equipment of the new power system. (Photo courtesy of the interviewee)\\nAn innovation center for the new power system in central China\\'s Hunan Province was officially launched on July 11. It is the first of its kind in China that comprehensively showcases the achievements and technological equipment of the new power system.\\nThe center was jointly constructed by State Grid Hunan Electric Power Co., Ltd. and over 60 enterprises and universities. It took 170 days to complete.\\nCovering all aspects of the power system, including power generation, transmission, transformation, distribution, storage, and utilization, the center vividly demonstrates the latest technological innovation, model transformation, and green development of the new power system.\\nThe exhibition area of the center features company booths, with 60 enterprises currently being hosted. The initial group of companies to showcase their booths includes BASF Shanshan Battery Materials Co., Ltd., Beijing Disaster Prevention Science and Technology Co., Ltd., CRRC Zhuzhou Institute Co., Ltd., TBEA Co., Ltd., and SANY Group, among others.\\n\"The innovation center serves as a bridge, connecting universities, research institutes, and enterprises. This collaboration enables us to fully leverage the strengths of all parties involved under the leadership of State Grid Hunan Electric Power Co., Ltd.,\" said Mei Wenqing, deputy general manager of CRRC Zhuzhou Institute Co., Ltd.\\nThe innovation center has five main functions. First, it showcases the construction and operation of Hunan\\'s new power system. Second, it acts as an emergency command center for the system. Third, it promotes collaboration within the industry by providing a platform for discussions and negotiations. Fourth, it hosts academic conferences for Hunan\\'s new power system. Lastly, it serves as an educational base, sharing knowledge about the new power system with schools and social groups.\\n\\nPhoto shows the innovation center for the new power system in central China\\'s Hunan Province, the first of this kind in China that comprehensively showcases the achievements and technological equipment of the new power system. (Photo courtesy of the interviewee)\\n__replace__'"
      ]
     },
     "execution_count": 45,
     "metadata": {},
     "output_type": "execute_result"
    }
   ],
   "source": [
    "pattern = r\"\\(Web editor: .*?\\)\"\n",
    "print(news_dataset['Article'].str.contains(pattern, regex=True).sum())\n",
    "news_dataset['Article'] = news_dataset['Article'].apply(lambda x: re.sub(pattern, \"__replace__\", x, flags=re.DOTALL))\n",
    "news_dataset['Article'].iloc[0]"
   ]
  },
  {
   "cell_type": "code",
   "execution_count": 47,
   "id": "aef3cd2f-2456-496c-be04-823d01bd6cf6",
   "metadata": {},
   "outputs": [
    {
     "name": "stdout",
     "output_type": "stream",
     "text": [
      "772\n"
     ]
    },
    {
     "data": {
      "text/plain": [
       "'__replace__\\n\\nPhoto shows the innovation center for the new power system in central China\\'s Hunan Province, the first of this kind in the country that comprehensively showcases the achievements and technological equipment of the new power system. (Photo courtesy of the interviewee)\\nAn innovation center for the new power system in central China\\'s Hunan Province was officially launched on July 11. It is the first of its kind in China that comprehensively showcases the achievements and technological equipment of the new power system.\\nThe center was jointly constructed by State Grid Hunan Electric Power __replace__, Ltd. and over 60 enterprises and universities. It took 170 days to complete.\\n__replace__ering all aspects of the power system, including power generation, transmission, transformation, distribution, storage, and utilization, the center vividly demonstrates the latest technological innovation, model transformation, and green development of the new power system.\\nThe exhibition area of the center features company booths, with 60 enterprises currently being hosted. The initial group of companies to showcase their booths includes BASF Shanshan Battery Materials __replace__, Ltd., Beijing Disaster Prevention Science and Technology __replace__, Ltd., CRRC Zhuzhou Institute __replace__, Ltd., TBEA __replace__, Ltd., and SANY Group, among others.\\n\"The innovation center serves as a bridge, connecting universities, research institutes, and enterprises. This collaboration enables us to fully leverage the strengths of all parties involved under the leadership of State Grid Hunan Electric Power __replace__, Ltd.,\" said Mei Wenqing, deputy general manager of CRRC Zhuzhou Institute __replace__, Ltd.\\nThe innovation center has five main functions. First, it showcases the construction and operation of Hunan\\'s new power system. Second, it acts as an emergency command center for the system. Third, it promotes collaboration within the industry by providing a platform for discussions and negotiations. Fourth, it hosts academic conferences for Hunan\\'s new power system. Lastly, it serves as an educational base, sharing knowledge about the new power system with schools and social groups.\\n\\nPhoto shows the innovation center for the new power system in central China\\'s Hunan Province, the first of this kind in China that comprehensively showcases the achievements and technological equipment of the new power system. (Photo courtesy of the interviewee)\\n__replace__'"
      ]
     },
     "execution_count": 47,
     "metadata": {},
     "output_type": "execute_result"
    }
   ],
   "source": [
    "pattern = r\"Co.\"\n",
    "print(news_dataset['Article'].str.contains(pattern, regex=True).sum())\n",
    "news_dataset['Article'] = news_dataset['Article'].apply(lambda x: re.sub(pattern, \"__replace__\", x, flags=re.DOTALL))\n",
    "news_dataset['Article'].iloc[0]"
   ]
  },
  {
   "cell_type": "code",
   "execution_count": 49,
   "id": "8c0ea72d-5d4e-48c5-80a0-93445a32516e",
   "metadata": {},
   "outputs": [
    {
     "name": "stdout",
     "output_type": "stream",
     "text": [
      "127\n"
     ]
    },
    {
     "data": {
      "text/plain": [
       "'__replace__\\n\\nPhoto shows the innovation center for the new power system in central China\\'s Hunan Province, the first of this kind in the country that comprehensively showcases the achievements and technological equipment of the new power system. (Photo courtesy of the interviewee)\\nAn innovation center for the new power system in central China\\'s Hunan Province was officially launched on July 11. It is the first of its kind in China that comprehensively showcases the achievements and technological equipment of the new power system.\\nThe center was jointly constructed by State Grid Hunan Electric Power __replace__, __replace__ and over 60 enterprises and universities. It took 170 days to complete.\\n__replace__ering all aspects of the power system, including power generation, transmission, transformation, distribution, storage, and utilization, the center vividly demonstrates the latest technological innovation, model transformation, and green development of the new power system.\\nThe exhibition area of the center features company booths, with 60 enterprises currently being hosted. The initial group of companies to showcase their booths includes BASF Shanshan Battery Materials __replace__, __replace__, Beijing Disaster Prevention Science and Technology __replace__, __replace__, CRRC Zhuzhou Institute __replace__, __replace__, TBEA __replace__, __replace__, and SANY Group, among others.\\n\"The innovation center serves as a bridge, connecting universities, research institutes, and enterprises. This collaboration enables us to fully leverage the strengths of all parties involved under the leadership of State Grid Hunan Electric Power __replace__, __replace__,\" said Mei Wenqing, deputy general manager of CRRC Zhuzhou Institute __replace__, __replace__\\nThe innovation center has five main functions. First, it showcases the construction and operation of Hunan\\'s new power system. Second, it acts as an emergency command center for the system. Third, it promotes collaboration within the industry by providing a platform for discussions and negotiations. Fourth, it hosts academic conferences for Hunan\\'s new power system. Lastly, it serves as an educational base, sharing knowledge about the new power system with schools and social groups.\\n\\nPhoto shows the innovation center for the new power system in central China\\'s Hunan Province, the first of this kind in China that comprehensively showcases the achievements and technological equipment of the new power system. (Photo courtesy of the interviewee)\\n__replace__'"
      ]
     },
     "execution_count": 49,
     "metadata": {},
     "output_type": "execute_result"
    }
   ],
   "source": [
    "pattern = r\"Ltd.\"\n",
    "print(news_dataset['Article'].str.contains(pattern, regex=True).sum())\n",
    "news_dataset['Article'] = news_dataset['Article'].apply(lambda x: re.sub(pattern, \"__replace__\", x, flags=re.DOTALL))\n",
    "news_dataset['Article'].iloc[0]"
   ]
  },
  {
   "cell_type": "code",
   "execution_count": 51,
   "id": "46c3c2b4-6bd9-427d-a8dc-052a54317f94",
   "metadata": {},
   "outputs": [
    {
     "name": "stdout",
     "output_type": "stream",
     "text": [
      "1277\n"
     ]
    },
    {
     "data": {
      "text/plain": [
       "'__replace__\\n\\nPhoto shows the innovation center for the new power system in central China__replace__ Hunan Province, the first of this kind in the country that comprehensively showcases the achievements and technological equipment of the new power system. (Photo courtesy of the interviewee)\\nAn innovation center for the new power system in central China__replace__ Hunan Province was officially launched on July 11. It is the first of its kind in China that comprehensively showcases the achievements and technological equipment of the new power system.\\nThe center was jointly constructed by State Grid Hunan Electric Power __replace__, __replace__ and over 60 enterprises and universities. It took 170 days to complete.\\n__replace__ering all aspects of the power system, including power generation, transmission, transformation, distribution, storage, and utilization, the center vividly demonstrates the latest technological innovation, model transformation, and green development of the new power system.\\nThe exhibition area of the center features company booths, with 60 enterprises currently being hosted. The initial group of companies to showcase their booths includes BASF Shanshan Battery Materials __replace__, __replace__, Beijing Disaster Prevention Science and Technology __replace__, __replace__, CRRC Zhuzhou Institute __replace__, __replace__, TBEA __replace__, __replace__, and SANY Group, among others.\\n\"The innovation center serves as a bridge, connecting universities, research institutes, and enterprises. This collaboration enables us to fully leverage the strengths of all parties involved under the leadership of State Grid Hunan Electric Power __replace__, __replace__,\" said Mei Wenqing, deputy general manager of CRRC Zhuzhou Institute __replace__, __replace__\\nThe innovation center has five main functions. First, it showcases the construction and operation of Hunan__replace__ new power system. Second, it acts as an emergency command center for the system. Third, it promotes collaboration within the industry by providing a platform for discussions and negotiations. Fourth, it hosts academic conferences for Hunan__replace__ new power system. Lastly, it serves as an educational base, sharing knowledge about the new power system with schools and social groups.\\n\\nPhoto shows the innovation center for the new power system in central China__replace__ Hunan Province, the first of this kind in China that comprehensively showcases the achievements and technological equipment of the new power system. (Photo courtesy of the interviewee)\\n__replace__'"
      ]
     },
     "execution_count": 51,
     "metadata": {},
     "output_type": "execute_result"
    }
   ],
   "source": [
    "pattern = r\"'s\"\n",
    "print(news_dataset['Article'].str.contains(pattern, regex=True).sum())\n",
    "news_dataset['Article'] = news_dataset['Article'].apply(lambda x: re.sub(pattern, \"__replace__\", x, flags=re.DOTALL))\n",
    "news_dataset['Article'].iloc[0]"
   ]
  },
  {
   "cell_type": "code",
   "execution_count": 53,
   "id": "6b1c5b57-5a2c-430a-996a-47326fe0325b",
   "metadata": {},
   "outputs": [
    {
     "name": "stdout",
     "output_type": "stream",
     "text": [
      "1496\n"
     ]
    },
    {
     "data": {
      "text/plain": [
       "'__replace____replace____replace__Photo shows the innovation center for the new power system in central China__replace__ Hunan Province, the first of this kind in the country that comprehensively showcases the achievements and technological equipment of the new power system. (Photo courtesy of the interviewee)__replace__An innovation center for the new power system in central China__replace__ Hunan Province was officially launched on July 11. It is the first of its kind in China that comprehensively showcases the achievements and technological equipment of the new power system.__replace__The center was jointly constructed by State Grid Hunan Electric Power __replace__, __replace__ and over 60 enterprises and universities. It took 170 days to complete.__replace____replace__ering all aspects of the power system, including power generation, transmission, transformation, distribution, storage, and utilization, the center vividly demonstrates the latest technological innovation, model transformation, and green development of the new power system.__replace__The exhibition area of the center features company booths, with 60 enterprises currently being hosted. The initial group of companies to showcase their booths includes BASF Shanshan Battery Materials __replace__, __replace__, Beijing Disaster Prevention Science and Technology __replace__, __replace__, CRRC Zhuzhou Institute __replace__, __replace__, TBEA __replace__, __replace__, and SANY Group, among others.__replace__\"The innovation center serves as a bridge, connecting universities, research institutes, and enterprises. This collaboration enables us to fully leverage the strengths of all parties involved under the leadership of State Grid Hunan Electric Power __replace__, __replace__,\" said Mei Wenqing, deputy general manager of CRRC Zhuzhou Institute __replace__, __replace____replace__The innovation center has five main functions. First, it showcases the construction and operation of Hunan__replace__ new power system. Second, it acts as an emergency command center for the system. Third, it promotes collaboration within the industry by providing a platform for discussions and negotiations. Fourth, it hosts academic conferences for Hunan__replace__ new power system. Lastly, it serves as an educational base, sharing knowledge about the new power system with schools and social groups.__replace____replace__Photo shows the innovation center for the new power system in central China__replace__ Hunan Province, the first of this kind in China that comprehensively showcases the achievements and technological equipment of the new power system. (Photo courtesy of the interviewee)__replace____replace__'"
      ]
     },
     "execution_count": 53,
     "metadata": {},
     "output_type": "execute_result"
    }
   ],
   "source": [
    "pattern = r\"\\n\"\n",
    "print(news_dataset['Article'].str.contains(pattern, regex=True).sum())\n",
    "news_dataset['Article'] = news_dataset['Article'].apply(lambda x: re.sub(pattern, \"__replace__\", x, flags=re.DOTALL))\n",
    "news_dataset['Article'].iloc[0]"
   ]
  },
  {
   "cell_type": "code",
   "execution_count": 55,
   "id": "151fc633-9e64-4b58-8b34-ed7f48d229e5",
   "metadata": {},
   "outputs": [
    {
     "name": "stdout",
     "output_type": "stream",
     "text": [
      "11\n"
     ]
    },
    {
     "data": {
      "text/plain": [
       "'__replace____replace____replace__Photo shows the innovation center for the new power system in central China__replace__ Hunan Province, the first of this kind in the country that comprehensively showcases the achievements and technological equipment of the new power system. __replace____replace__An innovation center for the new power system in central China__replace__ Hunan Province was officially launched on July 11. It is the first of its kind in China that comprehensively showcases the achievements and technological equipment of the new power system.__replace__The center was jointly constructed by State Grid Hunan Electric Power __replace__, __replace__ and over 60 enterprises and universities. It took 170 days to complete.__replace____replace__ering all aspects of the power system, including power generation, transmission, transformation, distribution, storage, and utilization, the center vividly demonstrates the latest technological innovation, model transformation, and green development of the new power system.__replace__The exhibition area of the center features company booths, with 60 enterprises currently being hosted. The initial group of companies to showcase their booths includes BASF Shanshan Battery Materials __replace__, __replace__, Beijing Disaster Prevention Science and Technology __replace__, __replace__, CRRC Zhuzhou Institute __replace__, __replace__, TBEA __replace__, __replace__, and SANY Group, among others.__replace__\"The innovation center serves as a bridge, connecting universities, research institutes, and enterprises. This collaboration enables us to fully leverage the strengths of all parties involved under the leadership of State Grid Hunan Electric Power __replace__, __replace__,\" said Mei Wenqing, deputy general manager of CRRC Zhuzhou Institute __replace__, __replace____replace__The innovation center has five main functions. First, it showcases the construction and operation of Hunan__replace__ new power system. Second, it acts as an emergency command center for the system. Third, it promotes collaboration within the industry by providing a platform for discussions and negotiations. Fourth, it hosts academic conferences for Hunan__replace__ new power system. Lastly, it serves as an educational base, sharing knowledge about the new power system with schools and social groups.__replace____replace__Photo shows the innovation center for the new power system in central China__replace__ Hunan Province, the first of this kind in China that comprehensively showcases the achievements and technological equipment of the new power system. __replace____replace____replace__'"
      ]
     },
     "execution_count": 55,
     "metadata": {},
     "output_type": "execute_result"
    }
   ],
   "source": [
    "pattern = r\"\\(Photo courtesy .*?\\)\"\n",
    "print(news_dataset['Article'].str.contains(pattern, regex=True).sum())\n",
    "news_dataset['Article'] = news_dataset['Article'].apply(lambda x: re.sub(pattern, \"__replace__\", x, flags=re.DOTALL))\n",
    "news_dataset['Article'].iloc[0]"
   ]
  },
  {
   "cell_type": "code",
   "execution_count": 57,
   "id": "c6c534c7-c8a8-4045-8d16-e6a400629c8d",
   "metadata": {},
   "outputs": [
    {
     "name": "stdout",
     "output_type": "stream",
     "text": [
      "1496\n"
     ]
    },
    {
     "data": {
      "text/plain": [
       "'   Photo shows the innovation center for the new power system in central China  Hunan Province, the first of this kind in the country that comprehensively showcases the achievements and technological equipment of the new power system.   An innovation center for the new power system in central China  Hunan Province was officially launched on July 11. It is the first of its kind in China that comprehensively showcases the achievements and technological equipment of the new power system. The center was jointly constructed by State Grid Hunan Electric Power  ,   and over 60 enterprises and universities. It took 170 days to complete.  ering all aspects of the power system, including power generation, transmission, transformation, distribution, storage, and utilization, the center vividly demonstrates the latest technological innovation, model transformation, and green development of the new power system. The exhibition area of the center features company booths, with 60 enterprises currently being hosted. The initial group of companies to showcase their booths includes BASF Shanshan Battery Materials  ,  , Beijing Disaster Prevention Science and Technology  ,  , CRRC Zhuzhou Institute  ,  , TBEA  ,  , and SANY Group, among others. \"The innovation center serves as a bridge, connecting universities, research institutes, and enterprises. This collaboration enables us to fully leverage the strengths of all parties involved under the leadership of State Grid Hunan Electric Power  ,  ,\" said Mei Wenqing, deputy general manager of CRRC Zhuzhou Institute  ,   The innovation center has five main functions. First, it showcases the construction and operation of Hunan  new power system. Second, it acts as an emergency command center for the system. Third, it promotes collaboration within the industry by providing a platform for discussions and negotiations. Fourth, it hosts academic conferences for Hunan  new power system. Lastly, it serves as an educational base, sharing knowledge about the new power system with schools and social groups.  Photo shows the innovation center for the new power system in central China  Hunan Province, the first of this kind in China that comprehensively showcases the achievements and technological equipment of the new power system.    '"
      ]
     },
     "execution_count": 57,
     "metadata": {},
     "output_type": "execute_result"
    }
   ],
   "source": [
    "pattern = r\"__replace__\"\n",
    "print(news_dataset['Article'].str.contains(pattern, regex=True).sum())\n",
    "news_dataset['Article'] = news_dataset['Article'].apply(lambda x: re.sub(pattern, \" \", x, flags=re.DOTALL))\n",
    "news_dataset['Article'].iloc[0]"
   ]
  },
  {
   "cell_type": "code",
   "execution_count": 59,
   "id": "43b7b9da-97b1-4abd-bef1-d977bb7fb7e6",
   "metadata": {},
   "outputs": [
    {
     "data": {
      "text/plain": [
       "0        Photo shows the innovation center for the n...\n",
       "1                                                      \n",
       "2        A vertical take-off and landing drone is on...\n",
       "3       BEIJING  July 15  Xinhua  -- China is at the...\n",
       "4       The 2024 World AI  ference  WAIC  and High-L...\n",
       "                            ...                        \n",
       "30       A Long March-4B carrier rocket carrying a n...\n",
       "32      In a banana seedling cultivation room of Cro...\n",
       "34       Alan Qi  president of Huawei Cloud Middle E...\n",
       "36      BEIJING  Sept  2  Xinhua  -- China has launc...\n",
       "38       A China  AG600 large amphibious aircraft is...\n",
       "Name: Article, Length: 1496, dtype: object"
      ]
     },
     "execution_count": 59,
     "metadata": {},
     "output_type": "execute_result"
    }
   ],
   "source": [
    "news_dataset['Article'] = news_dataset['Article'].apply(lambda x: re.sub(r'[^\\w\\s_\\-\\--]', ' ', x))\n",
    "news_dataset['Article']"
   ]
  },
  {
   "cell_type": "code",
   "execution_count": 61,
   "id": "6af0c577-74ca-4316-8a16-3d7a369d0e78",
   "metadata": {},
   "outputs": [
    {
     "data": {
      "text/plain": [
       "'  BEIJING  May 19  Xinhua  -- The four zebrafish kept on China  Tiangong space station  which is orbiting about 400 km above Earth  are currently in good condition  experts from the Chinese Academy of Sciences  CAS  said Sunday  The experts revealed details of the latest developments concerning the country  first in-orbit aquatic ecological research project at a public science day event in Beijing  On April 25  along with the three astronauts aboard the Shenzhou-18 manned spacecraft  four zebrafish and four grams of goldfish algae went into space  and these have been used to establish a self-cycling aquatic ecosystem in orbit  making a breakthrough in the field of raising of vertebrates in space  According to Zheng Weibo  a researcher at Shanghai Institute of Technical Physics of the CAS  the astronauts have managed to collect water samples twice and have replaced the fish food box once  They found that the zebrafish were showing directional behavior anomalies  such as inverted swimming and rotary movement  in the microgravity environment on Tiangong  Using the likes of water and fish egg samples  among others  scientists will carry out research on the impact of the space environment on the growth  development and behavior of vertebrates  as well as the material cycle of confined ecosystems in space  Zheng said  Zebrafish  as a model animal with genetic similarity to humans  can be used for research on many human diseases  said Wang Gaohong  a researcher at the Institute of Hydrobiology of the CAS   Meanwhile  like astronauts  zebrafish need to pass through rounds of selection to become  aquastronauts    Wang added   '"
      ]
     },
     "execution_count": 61,
     "metadata": {},
     "output_type": "execute_result"
    }
   ],
   "source": [
    "news_dataset['Article'].iloc[36]"
   ]
  },
  {
   "cell_type": "code",
   "execution_count": 63,
   "id": "ef445971-c57d-40f8-8691-e1a7329a5f45",
   "metadata": {},
   "outputs": [
    {
     "name": "stdout",
     "output_type": "stream",
     "text": [
      "991\n"
     ]
    },
    {
     "data": {
      "text/plain": [
       "'   Photo shows the innovation center for the new power system in central China  Hunan Province  the first of this kind in the country that comprehensively showcases the achievements and technological equipment of the new power system    An innovation center for the new power system in central China  Hunan Province was officially launched on July 11  It is the first of its kind in China that comprehensively showcases the achievements and technological equipment of the new power system  The center was jointly constructed by State Grid Hunan Electric Power      and over 60 enterprises and universities  It took 170 days to complete   ering all aspects of the power system  including power generation  transmission  transformation  distribution  storage  and utilization  the center vividly demonstrates the latest technological innovation  model transformation  and green development of the new power system  The exhibition area of the center features company booths  with 60 enterprises currently being hosted  The initial group of companies to showcase their booths includes BASF Shanshan Battery Materials       Beijing Disaster Prevention Science and Technology       CRRC Zhuzhou Institute       TBEA       and SANY Group  among others   The innovation center serves as a bridge  connecting universities  research institutes  and enterprises  This collaboration enables us to fully leverage the strengths of all parties involved under the leadership of State Grid Hunan Electric Power        said Mei Wenqing  deputy general manager of CRRC Zhuzhou Institute      The innovation center has five main functions  First  it showcases the construction and operation of Hunan  new power system  Second  it acts as an emergency command center for the system  Third  it promotes collaboration within the industry by providing a platform for discussions and negotiations  Fourth  it hosts academic conferences for Hunan  new power system  Lastly  it serves as an educational base  sharing knowledge about the new power system with schools and social groups   Photo shows the innovation center for the new power system in central China  Hunan Province  the first of this kind in China that comprehensively showcases the achievements and technological equipment of the new power system     '"
      ]
     },
     "execution_count": 63,
     "metadata": {},
     "output_type": "execute_result"
    }
   ],
   "source": [
    "pattern = r\"--\"\n",
    "print(news_dataset['Article'].str.contains(pattern, regex=True).sum())\n",
    "news_dataset['Article'] = news_dataset['Article'].apply(lambda x: re.sub(pattern, \" \", x, flags=re.DOTALL))\n",
    "news_dataset['Article'].iloc[0]"
   ]
  },
  {
   "cell_type": "code",
   "execution_count": 65,
   "id": "92c31f68-9d50-4cc9-9e63-4ee2b9d5db21",
   "metadata": {},
   "outputs": [
    {
     "name": "stdout",
     "output_type": "stream",
     "text": [
      "116\n"
     ]
    },
    {
     "data": {
      "text/plain": [
       "'   Photo shows China  first lunar sample at the opening ceremony on the Space Day of China on April 24  2021    Chinese researchers have recently discovered a naturally occurring few-layer graphene for the first time in the lunar samples brought back by the Chang e-5 probe  which provides new insights into the moon s geological activities  evolutionary history  and environmental characteristics  broadening understanding of the complex mineral composition of lunar soil and offering important information and clues for resource utilization on the moon  According to the research team from Jilin University  it is estimated that approximately 1 9 percent of the total interstellar carbon exists in the form of graphene  whose morphology and properties are determined by a specific formation process  Therefore  natural graphene can provide important reference and information for the geological evolution of celestial bodies and the in-situ resource utilization on the moon  The research team collected Raman spectra  which are used to investigate lunar soils  from areas of the lunar samples with relatively high carbon content  and confirmed that the crystallization quality of the graphite carbon in the lunar samples is relatively high  The researchers found that areas of the lunar soil samples containing carbon also contain iron compounds  which the researchers believe is closely related to the formation of graphene  Through observation and analysis  the research team confirmed that the graphite form of carbon detected in the lunar soil samples is a type of few-layer graphene  The research team confirmed that the formation of few-layer graphene and graphite carbon may originate from mineral catalytic processes induced jointly by the solar wind and early volcanic eruptions on the moon  The research conducted by the researchers from Jilin University and the Institute of Metal Research  Chinese Academy of Sciences  and supported by China National Space Administration Lunar Exploration and Space Engineering Center  has recently been published in the National Science Review  a peer-reviewed journal aimed at reporting cutting-edge developments across science and technology in China and around the world  A total of 1 731 grams of lunar samples were brought back by Chang e-5 mission in December 2020  These samples were the first ever obtained from a younger region of the lunar surface which contains volcanic rocks  They are also the first extraterrestrial celestial bodies  samples brought back to Earth by Chinese scientists  As of early June this year  a total of 258 lunar samples weighing 77 7 grams have been collected by Chang e-5 and have been distributed to 114 research teams from 40 research institutions  Researchers studying these lunar samples have accomplished a number of milestone achievements with over 70 findings being published in major academic journals both at home and abroad   '"
      ]
     },
     "execution_count": 65,
     "metadata": {},
     "output_type": "execute_result"
    }
   ],
   "source": [
    "pattern = r\"U.S\"\n",
    "print(news_dataset['Article'].str.contains(pattern, regex=True).sum())\n",
    "news_dataset['Article'] = news_dataset['Article'].apply(lambda x: re.sub(pattern, \"USA\", x, flags=re.DOTALL))\n",
    "news_dataset['Article'].iloc[198]"
   ]
  },
  {
   "cell_type": "code",
   "execution_count": null,
   "id": "6a45fb67-357f-417a-bb67-f53d493f4c09",
   "metadata": {},
   "outputs": [],
   "source": []
  },
  {
   "cell_type": "code",
   "execution_count": 68,
   "id": "e1f15d13-2089-464e-b334-625b6ee9ee8d",
   "metadata": {},
   "outputs": [
    {
     "name": "stdout",
     "output_type": "stream",
     "text": [
      "   Photo shows the innovation center for the new power system in central China  Hunan Province  the first of this kind in the country that comprehensively showcases the achievements and technological equipment of the new power system    An innovation center for the new power system in central China  Hunan Province was officially launched on July 11  It is the first of its kind in China that comprehensively showcases the achievements and technological equipment of the new power system  The center was jointly constructed by State Grid Hunan Electric Power      and over 60 enterprises and universities  It took 170 days to complete   ering all aspects of the power system  including power generation  transmission  transformation  distribution  storage  and utilization  the center vividly demonstrates the latest technological innovation  model transformation  and green development of the new power system  The exhibition area of the center features company booths  with 60 enterprises currently being hosted  The initial group of companies to showcase their booths includes BASF Shanshan Battery Materials       Beijing Disaster Prevention Science and Technology       CRRC Zhuzhou Institute       TBEA       and SANY Group  among others   The innovation center serves as a bridge  connecting universities  research institutes  and enterprises  This collaboration enables us to fully leverage the strengths of all parties involved under the leadership of State Grid Hunan Electric Power        said Mei Wenqing  deputy general manager of CRRC Zhuzhou Institute      The innovation center has five main functions  First  it showcases the construction and operation of Hunan  new power system  Second  it acts as an emergency command center for the system  Third  it promotes collaboration within the industry by providing a platform for discussions and negotiations  Fourth  it hosts academic conferences for Hunan  new power system  Lastly  it serves as an educational base  sharing knowledge about the new power system with schools and social groups   Photo shows the innovation center for the new power system in central China  Hunan Province  the first of this kind in China that comprehensively showcases the achievements and technological equipment of the new power system     \n",
      "    \n",
      "   A vertical take-off and landing drone is on display at the 26th China Beijing International High-tech Expo  July 13  2024     ering an area of 22 000 square meters  the event attracted more than 300 enterprises and organizations from home and abroad with 6 special exhibition areas   Models of electric multiple unit  EMU  trains are on display at the 26th China Beijing International High-tech Expo  July 13  2024     Visitors view a model showing the detection and exploitation of deepwater oil and gas from China National Offshore Oil  poration  CNOOC  displayed at the 26th China Beijing International High-tech Expo  July 14  2024     Visitors view an unmanned tractor displayed at the 26th China Beijing International High-tech Expo  July 14  2024     Foreign visitors experience a new energy vehicle displayed at the 26th China Beijing International High-tech Expo  July 14  2024     \n",
      "  BEIJING  July 15  Xinhua    China is at the technological forefront of electricity development and has provided the world with experience and practices in electricity innovation  according to a report issued on the sidelines of a high-level conference recently held in Beijing  At a sub-forum of the second high-level conference of the Forum on Global Action for Shared Development  the Global Energy Interconnection Development and  peration Organization  GEIDCO  issued the Research on Global Electricity Development Index  The sub-forum  which was held Friday  was themed on energy transition and sustainable development  It was organized by GEIDCO  a non-profit international organization headquartered in Beijing and dedicated to promoting sustainable energy development worldwide  Guan Xiupeng  vice director of GEIDCO General Office  told Xinhua that China  vast territory  with diverse geographical features such as deserts  forests  plateaus and permafrost areas  has an impact on economic and social development   Based on such conditions  China has explored electricity technologies and development models that are suitable for its development and has accumulated a wealth of experience on project construction  which can also be shared with other countries  especially in the Global South   he added  The research report mentioned that China is at the technological forefront in new energy power generation  Ultra High Voltage  UHV  power transmission  flexible direct current transmission  and the digitization and intelligentization of electricity systems  Taking UHV for example  The development of UHV technology is driven by the long distance between China  clean energy resources  mostly in the western regions  and consumption centers in east China  It has not only solved the problem of long-distance  large-capacity power transmission but also realized the mass consumption of clean energy  On the other side of the globe  UHV technology has found its place in Brazil  a country with abundant hydropower resource in tropical rainforest in its northern part  and densely populated areas in the south  The State Grid  poration of China  SGCC   a leading state-owned utility company  has applied the technologies and experience earned at home to this South American country  including 800kV UHV direct current transmission technology  which sends electricity from the Belo Monte hydroelectric plant in Para state to big cities like Rio de Janeiro and Sao Paulo  The mega-project traverses a vast area  stretching more than 2 000 km over tropical rainforests and rivers  to supply the power consumption of some 22 million people  about 10 percent of the Brazilian population  As of now  180 billion kWh hydropower has been delivered via the project  equivalent to saving 64 million tonnes of standard coal or cutting 170 million tonnes of CO2 emission  The project strictly complies to environmental regulations  When laying power transmission lines  the engineering teams bypassed the local indigenous settlements and ecological conservation areas in accordance with local laws and regulations  In 2019  it was recognized as the best social and environmental management practice in Brazil  Besides the project construction  Chinese companies also promote technology transfer by training local talent for long-term operation and maintenance  with the smart electricity meter project in Saudi Arabia as one such example  The agreement for the project was signed by SGCC and Saudi Electricity  pany in 2019  and included the installation of 5 million electricity meters and the development of supporting facilities  Technology services  equipment integration  trial tests  and maintenance and personnel training were also part of the project  which was the largest deployment of smart electricity meters in the world at the time  Deng Guoxue  one of the project experts from SGCC  was busy not only with installation work  but also with running local personnel training classes  He developed a set of English training materials  including textbooks  lecture notes and student manuals for his Saudi colleagues  Ihab Mohammad  one of the local trainees  said he had witnessed the diligence  responsibility and professionalism of the SGCC employees  who have completed a high-quality project with their wisdom and hardwork to benefit the local people  The Chinese contractors not only build power systems  but also bring domestic experience to the field of environmental protection  enhancing the overall environmental level of the projects  Located in the coastal  sandy area of Binh Dinh Province in Vietnam  the Phu My 330-megawatt photovoltaic power station is a major new energy project in Vietnam  National Power Development Plan 7  and is the largest photovoltaic power station in central Vietnam  The Power  struction  poration of China  the project contractor  also considered the various application potentials during the project  design  such as expansion of energy storage  hydrogen and ammonia production  and desalination of seawater by green electricity  As of the end of April 2023  the project had generated and sent a total of 695 million kWh of electricity to the grid  equivalent to cutting 670 000 tonnes of carbon dioxide emissions  or saving 220 000 tonnes of standard coal  The project also transformed and utilized about 325 hectares of desertified and barren land  significantly reducing dust storms and improving local environment   \n",
      "  The 2024 World AI  ference  WAIC  and High-Level Meeting on Global AI Governance was held in Shanghai from July 4 to 6  featuring 107 forums  more than 1 500 exhibits and over 50 launch events  With an exhibition area of more than 52 000 square meters  the conference featured a  full-domain connection hall  of 6 000 square meters for project incubations  procurements and investment matchmaking  Nearly 100 large models were exhibited  and China  first full-sized general-purpose humanoid robot prototype was also launched at the conference   The humanoid robot Optimus developed by Tesla is exhibited at the 2024 World AI  ference  WAIC   east China  Shanghai  July 5  2024   People  Daily Online Xu Kunde  The AI exhibition held during the conference attracted more than 500 renowned enterprises  At the exhibition  visitors were amazed by how new technologies are transforming industries across the board  For instance  a large model developed by Chinese AI software provider SenseTime can bring photos to life  animating figures  expressions and movements in photos to create dynamic videos  Besides  Alipay  smart assistant can quickly answer questions and handle tasks with the command of users  Among the exhibits  there were not just large model application products but technical and service products supporting their operations  INTSIG Information      an industry-leading tech company specializing in business data  AI  and mobile applications  has launched a large model accelerator that can speed up pre-training  corpus development  practical implementation and other processes for large model applications  This accelerator can quickly parse unstructured data from lengthy documents of hundreds of pages and intelligently reconstruct the correct reading order of documents  The conference also featured a dedicated demonstration zone for humanoid robots  showcasing more humanoid robots than ever before  For instance  at the exhibition booth of Robot Era  a robot developer in Beijing  a large screen displaying a humanoid robot climbing the Great Wall attracted huge attention  Besides  the  Healthy Loong  humanoid robot developed in Zhangjiang High-tech Park  Shanghai  announced its open-source status  aiming to advance towards general AI  These novel and impressive humanoid robots made visitors feel as if they were stepping into the future world  According to statistics  the conference received over 300 000 in-person visits and 2 billion online views  an increase of 90 percent from the previous session  setting new records   A robot shows its ability at the exhibition booth of Humanoid Robot  Shanghai       at the 2024 World AI  ference  east China  Shanghai  July 5  2024   People  Daily Online Xu Kunde  The advancement of AI technology  while driving economic and social development  has brought risks and challenges  including deepfakes  privacy breaches  and intellectual property disputes  Andrew Chi-Chih Yao  a Turing Award winner and academician of the Chinese Academy of Sciences  believes that the risks of AI manifest in the extension and expansion of cybersecurity threats  as well as in unforeseen social risks  Strengthening global AI governance urgently requires building consensus through dialogue and cooperation  The Shanghai Declaration on Global AI Governance  issued at the conference  opening ceremony  presents China  proposals for global AI governance  This year  WAIC featured the first High-Level Meeting on Global AI Governance  Over three days  a total of 1 300 guests from more than 50 countries and regions participated in thematic discussions  Xue Lan  dean of Schwarzman  lege and head of the Institute for AI International Governance of Tsinghua University  said that to promote global AI governance  it is important to strengthen collaborative governance  expand multi-level and multi-channel bilateral and multilateral exchanges and dialogues  and advance international AI big science cooperation to jointly address the risks and challenges brought by AI technology   A keynote speech is given at a main forum on industrial development of the 2024 World AI  ference  WAIC  held in a meeting hall of the Shanghai World Expo Exhibition and  vention Center  in east China  Shanghai  July 4  2024   People  Daily Online Chen Yuyu  This conference featured 107 forums  focusing on topics such as model algorithms and computing power  embodied intelligence  and industrial ecology  When discussing the future development of large models  Zhang Yaqin  dean of the Institute for AI Industry Research  Tsinghua University  outlined several key trends  He said that the development of these models will become multimodal  cross-modal  and multi-scale  predicting that AI will soon be integrated into edge devices like TVs  smartphones  and cars  Moreover  he said that large models will evolve into tools for developing intelligent agents capable of autonomous task planning  code writing  tool manipulation  and path optimization  Zhang further explained that large models have already been applied to enhance the automation and intelligence of physical infrastructure such as transportation systems  communications networks  and power grids  paving the way for embodied intelligence  He also foresaw a future where large models are interfaced directly with biological systems  potentially leading to a groundbreaking fusion of digital  physical  and biological intelligence  It is reported that the 2024 WAIC brought together 132 procurement groups and identified 126 project procurement needs  with an estimated total purchase amount of 15 billion yuan   2 06 billion   Additionally  24 major industrial projects were signed up  with a total investment of over 40 billion yuan   \n"
     ]
    }
   ],
   "source": [
    "print(news_dataset['Article'].iloc[0])\n",
    "print(news_dataset['Article'].iloc[1])\n",
    "print(news_dataset['Article'].iloc[2])\n",
    "print(news_dataset['Article'].iloc[3])\n",
    "print(news_dataset['Article'].iloc[4])"
   ]
  },
  {
   "cell_type": "markdown",
   "id": "6a29c776-934c-47b0-b1f6-3b81910d78ff",
   "metadata": {},
   "source": [
    "### Reduces unnessary information `news_dataset['Title']`"
   ]
  },
  {
   "cell_type": "code",
   "execution_count": 71,
   "id": "81877461-4b4d-4dbe-a157-13a6ae606b5e",
   "metadata": {},
   "outputs": [
    {
     "data": {
      "text/plain": [
       "0     Country's first innovation center for the new ...\n",
       "1            Powering new quality productive forces: AI\n",
       "2     26th China Beijing International High-tech Exp...\n",
       "3     China's tech innovations benefit electricity d...\n",
       "4     Diverse applications of new technologies on di...\n",
       "                            ...                        \n",
       "30    China launches new remote sensing satellite group\n",
       "32    China, Africa continue deepening cooperation i...\n",
       "34    China's tech firm Huawei introduces AI initiat...\n",
       "36    China launches key meteorological lab for ener...\n",
       "38    China's AG600 amphibious aircraft completes fi...\n",
       "Name: Title, Length: 1496, dtype: object"
      ]
     },
     "execution_count": 71,
     "metadata": {},
     "output_type": "execute_result"
    }
   ],
   "source": [
    "news_dataset['Title']"
   ]
  },
  {
   "cell_type": "code",
   "execution_count": 73,
   "id": "59b94bff-27fe-4484-9e5f-e8b45df1514f",
   "metadata": {},
   "outputs": [
    {
     "name": "stdout",
     "output_type": "stream",
     "text": [
      "Country's first innovation center for the new power system goes into operation in C China's Hunan\n",
      "Powering new quality productive forces: AI\n",
      "26th China Beijing International High-tech Expo draws visitors\n",
      "China's tech innovations benefit electricity development in Global South\n",
      "Diverse applications of new technologies on display at 2024 WAIC\n"
     ]
    }
   ],
   "source": [
    "print(news_dataset['Title'].iloc[0])\n",
    "print(news_dataset['Title'].iloc[1])\n",
    "print(news_dataset['Title'].iloc[2])\n",
    "print(news_dataset['Title'].iloc[3])\n",
    "print(news_dataset['Title'].iloc[4])"
   ]
  },
  {
   "cell_type": "code",
   "execution_count": 75,
   "id": "64a68260-ab0d-4da2-9504-040af2e54776",
   "metadata": {},
   "outputs": [
    {
     "name": "stdout",
     "output_type": "stream",
     "text": [
      "0 Country's first innovation center for the new power system goes into operation in C China's Hunan\n",
      "1 Powering new quality productive forces: AI\n",
      "2 26th China Beijing International High-tech Expo draws visitors\n",
      "3 China's tech innovations benefit electricity development in Global South\n",
      "4 Diverse applications of new technologies on display at 2024 WAIC\n",
      "5 AI used to help preserve China's oldest wooden pagoda\n",
      "6 Conference to boost global basic science exchange opens in Beijing\n",
      "7 Beijing launches \"rocket street\" project to advance commercial space development\n",
      "8 China forges ahead at forefront of global battle against desertification\n",
      "9 China ranks high in global electricity index by tech innovation\n"
     ]
    }
   ],
   "source": [
    "for i in range(0,10):\n",
    "    print(i, news_dataset['Title'].iloc[i])"
   ]
  },
  {
   "cell_type": "code",
   "execution_count": 77,
   "id": "92307f13-b2cf-422e-a349-bb4cdd33aafb",
   "metadata": {},
   "outputs": [
    {
     "name": "stdout",
     "output_type": "stream",
     "text": [
      "396\n"
     ]
    },
    {
     "data": {
      "text/plain": [
       "'Country  first innovation center for the new power system goes into operation in C China  Hunan'"
      ]
     },
     "execution_count": 77,
     "metadata": {},
     "output_type": "execute_result"
    }
   ],
   "source": [
    "pattern = r\"'s\"\n",
    "print(news_dataset['Title'].str.contains(pattern, regex=True).sum())\n",
    "news_dataset['Title'] = news_dataset['Title'].apply(lambda x: re.sub(pattern, \" \", x, flags=re.DOTALL))\n",
    "news_dataset['Title'].iloc[0]"
   ]
  },
  {
   "cell_type": "code",
   "execution_count": 79,
   "id": "a923626c-f26c-44f9-a7fe-5446acfe4408",
   "metadata": {},
   "outputs": [
    {
     "name": "stdout",
     "output_type": "stream",
     "text": [
      "37\n"
     ]
    },
    {
     "data": {
      "text/plain": [
       "'Chinese researchers discover naturally occurring few-layer graphene in the Chang’e-5 lunar samples for 1st time'"
      ]
     },
     "execution_count": 79,
     "metadata": {},
     "output_type": "execute_result"
    }
   ],
   "source": [
    "pattern = r\"'e\"\n",
    "print(news_dataset['Title'].str.contains(pattern, regex=True).sum())\n",
    "news_dataset['Title'] = news_dataset['Title'].apply(lambda x: re.sub(pattern, \" \", x, flags=re.DOTALL))\n",
    "news_dataset['Title'].iloc[198]"
   ]
  },
  {
   "cell_type": "code",
   "execution_count": 81,
   "id": "314dfde7-da39-41af-8ee3-b1f0a88b0e6a",
   "metadata": {},
   "outputs": [
    {
     "name": "stdout",
     "output_type": "stream",
     "text": [
      "517\n"
     ]
    },
    {
     "data": {
      "text/plain": [
       "'Country  first innovation center for the new power system goes into operation in C China  Hunan'"
      ]
     },
     "execution_count": 81,
     "metadata": {},
     "output_type": "execute_result"
    }
   ],
   "source": [
    "pattern = r\"-\"\n",
    "print(news_dataset['Title'].str.contains(pattern, regex=True).sum())\n",
    "news_dataset['Title'] = news_dataset['Title'].apply(lambda x: re.sub(pattern, \" \", x, flags=re.DOTALL))\n",
    "news_dataset['Title'].iloc[0]"
   ]
  },
  {
   "cell_type": "code",
   "execution_count": 83,
   "id": "d4c3d9cf-2310-46de-a3b0-ea233518c429",
   "metadata": {},
   "outputs": [
    {
     "data": {
      "text/plain": [
       "'Chinese researchers discover naturally occurring few layer graphene in the Chang’e 5 lunar samples for 1st time'"
      ]
     },
     "execution_count": 83,
     "metadata": {},
     "output_type": "execute_result"
    }
   ],
   "source": [
    "news_dataset['Title'].iloc[198]"
   ]
  },
  {
   "cell_type": "code",
   "execution_count": 85,
   "id": "f6616c6f-579f-4ab3-bb09-e0bdb86e8d57",
   "metadata": {},
   "outputs": [
    {
     "name": "stdout",
     "output_type": "stream",
     "text": [
      "15\n"
     ]
    },
    {
     "data": {
      "text/plain": [
       "'Chinese researchers discover naturally occurring few layer graphene in the Chang’e 5 lunar samples for 1st time'"
      ]
     },
     "execution_count": 85,
     "metadata": {},
     "output_type": "execute_result"
    }
   ],
   "source": [
    "pattern = r\"U.S\"\n",
    "print(news_dataset['Title'].str.contains(pattern, regex=True).sum())\n",
    "news_dataset['Title'] = news_dataset['Title'].apply(lambda x: re.sub(pattern, \"USA\", x, flags=re.DOTALL))\n",
    "news_dataset['Title'].iloc[198]"
   ]
  },
  {
   "cell_type": "code",
   "execution_count": 87,
   "id": "19936803-f3f8-4934-88a8-bca18e2e865f",
   "metadata": {},
   "outputs": [
    {
     "name": "stdout",
     "output_type": "stream",
     "text": [
      "3\n"
     ]
    },
    {
     "data": {
      "text/plain": [
       "'Chinese researchers discover naturally occurring few layer graphene in the   5 lunar samples for 1st time'"
      ]
     },
     "execution_count": 87,
     "metadata": {},
     "output_type": "execute_result"
    }
   ],
   "source": [
    "pattern = r\"Chang’e\"\n",
    "print(news_dataset['Title'].str.contains(pattern, regex=True).sum())\n",
    "news_dataset['Title'] = news_dataset['Title'].apply(lambda x: re.sub(pattern, \" \", x, flags=re.DOTALL))\n",
    "news_dataset['Title'].iloc[198]"
   ]
  },
  {
   "cell_type": "code",
   "execution_count": null,
   "id": "faa907be-d3d4-440e-9309-35c39e84daaa",
   "metadata": {},
   "outputs": [],
   "source": []
  },
  {
   "cell_type": "code",
   "execution_count": 90,
   "id": "874cbdfe-0d38-475c-be2f-3a6eec6dcd9e",
   "metadata": {},
   "outputs": [
    {
     "name": "stdout",
     "output_type": "stream",
     "text": [
      "134\n"
     ]
    },
    {
     "data": {
      "text/plain": [
       "'Chinese researchers discover naturally occurring few layer graphene in the   5 lunar samples for 1st time'"
      ]
     },
     "execution_count": 90,
     "metadata": {},
     "output_type": "execute_result"
    }
   ],
   "source": [
    "pattern = r\":\"\n",
    "print(news_dataset['Title'].str.contains(pattern, regex=True).sum())\n",
    "news_dataset['Title'] = news_dataset['Title'].apply(lambda x: re.sub(pattern, \" \", x, flags=re.DOTALL))\n",
    "news_dataset['Title'].iloc[198]"
   ]
  },
  {
   "cell_type": "code",
   "execution_count": 94,
   "id": "643d23f0-192b-4726-ba1b-b86d5638a022",
   "metadata": {},
   "outputs": [
    {
     "name": "stdout",
     "output_type": "stream",
     "text": [
      "Series([], Name: Title, dtype: object)\n"
     ]
    },
    {
     "data": {
      "text/plain": [
       "0     Country  first innovation center for the new p...\n",
       "1            Powering new quality productive forces  AI\n",
       "2     26th China Beijing International High tech Exp...\n",
       "3     China  tech innovations benefit electricity de...\n",
       "4     Diverse applications of new technologies on di...\n",
       "                            ...                        \n",
       "30    China launches new remote sensing satellite group\n",
       "32    China, Africa continue deepening cooperation i...\n",
       "34    China  tech firm Huawei introduces AI initiati...\n",
       "36    China launches key meteorological lab for ener...\n",
       "38    China  AG600 amphibious aircraft completes fir...\n",
       "Name: Title, Length: 1496, dtype: object"
      ]
     },
     "execution_count": 94,
     "metadata": {},
     "output_type": "execute_result"
    }
   ],
   "source": [
    "pattern = r\"\\\"\"\n",
    "print(news_dataset['Title'][news_dataset['Title'].str.contains(pattern, regex=True)])\n",
    "news_dataset['Title'] = news_dataset['Title'].apply(lambda x: re.sub(pattern, \" \", x, flags=re.DOTALL))\n",
    "news_dataset['Title']"
   ]
  },
  {
   "cell_type": "markdown",
   "id": "a285d94f-889f-4739-a867-1b7f04561430",
   "metadata": {},
   "source": [
    "### Remove Null rows"
   ]
  },
  {
   "cell_type": "code",
   "execution_count": 110,
   "id": "ce8a4fbf-7d9d-4551-8624-5533d69027b5",
   "metadata": {},
   "outputs": [],
   "source": [
    "news_dataset = news_dataset[news_dataset['Article'].str.len() >= 10]"
   ]
  },
  {
   "cell_type": "code",
   "execution_count": 112,
   "id": "44f80c3a-ec50-49c4-8fd1-2b9e4a738f07",
   "metadata": {},
   "outputs": [
    {
     "data": {
      "text/html": [
       "<div>\n",
       "<style scoped>\n",
       "    .dataframe tbody tr th:only-of-type {\n",
       "        vertical-align: middle;\n",
       "    }\n",
       "\n",
       "    .dataframe tbody tr th {\n",
       "        vertical-align: top;\n",
       "    }\n",
       "\n",
       "    .dataframe thead th {\n",
       "        text-align: right;\n",
       "    }\n",
       "</style>\n",
       "<table border=\"1\" class=\"dataframe\">\n",
       "  <thead>\n",
       "    <tr style=\"text-align: right;\">\n",
       "      <th></th>\n",
       "      <th>Title</th>\n",
       "      <th>Date</th>\n",
       "      <th>URL</th>\n",
       "      <th>Article</th>\n",
       "    </tr>\n",
       "  </thead>\n",
       "  <tbody>\n",
       "    <tr>\n",
       "      <th>0</th>\n",
       "      <td>Country  first innovation center for the new p...</td>\n",
       "      <td>2024-07-15</td>\n",
       "      <td>http://en.people.cn/n3/2024/0715/c90000-201939...</td>\n",
       "      <td>Photo shows the innovation center for the n...</td>\n",
       "    </tr>\n",
       "    <tr>\n",
       "      <th>2</th>\n",
       "      <td>26th China Beijing International High tech Exp...</td>\n",
       "      <td>2024-07-15</td>\n",
       "      <td>http://en.people.cn/n3/2024/0715/c90000-201938...</td>\n",
       "      <td>A vertical take-off and landing drone is on...</td>\n",
       "    </tr>\n",
       "    <tr>\n",
       "      <th>3</th>\n",
       "      <td>China  tech innovations benefit electricity de...</td>\n",
       "      <td>2024-07-15</td>\n",
       "      <td>http://en.people.cn/n3/2024/0715/c90000-201938...</td>\n",
       "      <td>BEIJING  July 15  Xinhua    China is at the ...</td>\n",
       "    </tr>\n",
       "    <tr>\n",
       "      <th>4</th>\n",
       "      <td>Diverse applications of new technologies on di...</td>\n",
       "      <td>2024-07-15</td>\n",
       "      <td>http://en.people.cn/n3/2024/0715/c90000-201938...</td>\n",
       "      <td>The 2024 World AI  ference  WAIC  and High-L...</td>\n",
       "    </tr>\n",
       "    <tr>\n",
       "      <th>5</th>\n",
       "      <td>AI used to help preserve China  oldest wooden ...</td>\n",
       "      <td>2024-07-15</td>\n",
       "      <td>http://en.people.cn/n3/2024/0715/c90000-201936...</td>\n",
       "      <td>The Sakyamuni Pagoda  also known as the Yin...</td>\n",
       "    </tr>\n",
       "    <tr>\n",
       "      <th>...</th>\n",
       "      <td>...</td>\n",
       "      <td>...</td>\n",
       "      <td>...</td>\n",
       "      <td>...</td>\n",
       "    </tr>\n",
       "    <tr>\n",
       "      <th>30</th>\n",
       "      <td>China launches new remote sensing satellite group</td>\n",
       "      <td>2024-09-03</td>\n",
       "      <td>http://en.people.cn/n3/2024/0903/c90000-202137...</td>\n",
       "      <td>A Long March-4B carrier rocket carrying a n...</td>\n",
       "    </tr>\n",
       "    <tr>\n",
       "      <th>32</th>\n",
       "      <td>China, Africa continue deepening cooperation i...</td>\n",
       "      <td>2024-09-03</td>\n",
       "      <td>http://en.people.cn/n3/2024/0903/c90000-202136...</td>\n",
       "      <td>In a banana seedling cultivation room of Cro...</td>\n",
       "    </tr>\n",
       "    <tr>\n",
       "      <th>34</th>\n",
       "      <td>China  tech firm Huawei introduces AI initiati...</td>\n",
       "      <td>2024-09-03</td>\n",
       "      <td>http://en.people.cn/n3/2024/0903/c90000-202134...</td>\n",
       "      <td>Alan Qi  president of Huawei Cloud Middle E...</td>\n",
       "    </tr>\n",
       "    <tr>\n",
       "      <th>36</th>\n",
       "      <td>China launches key meteorological lab for ener...</td>\n",
       "      <td>2024-09-03</td>\n",
       "      <td>http://en.people.cn/n3/2024/0903/c90000-202134...</td>\n",
       "      <td>BEIJING  Sept  2  Xinhua    China has launch...</td>\n",
       "    </tr>\n",
       "    <tr>\n",
       "      <th>38</th>\n",
       "      <td>China  AG600 amphibious aircraft completes fir...</td>\n",
       "      <td>2024-09-02</td>\n",
       "      <td>http://en.people.cn/n3/2024/0902/c90000-202130...</td>\n",
       "      <td>A China  AG600 large amphibious aircraft is...</td>\n",
       "    </tr>\n",
       "  </tbody>\n",
       "</table>\n",
       "<p>1489 rows × 4 columns</p>\n",
       "</div>"
      ],
      "text/plain": [
       "                                                Title        Date  \\\n",
       "0   Country  first innovation center for the new p...  2024-07-15   \n",
       "2   26th China Beijing International High tech Exp...  2024-07-15   \n",
       "3   China  tech innovations benefit electricity de...  2024-07-15   \n",
       "4   Diverse applications of new technologies on di...  2024-07-15   \n",
       "5   AI used to help preserve China  oldest wooden ...  2024-07-15   \n",
       "..                                                ...         ...   \n",
       "30  China launches new remote sensing satellite group  2024-09-03   \n",
       "32  China, Africa continue deepening cooperation i...  2024-09-03   \n",
       "34  China  tech firm Huawei introduces AI initiati...  2024-09-03   \n",
       "36  China launches key meteorological lab for ener...  2024-09-03   \n",
       "38  China  AG600 amphibious aircraft completes fir...  2024-09-02   \n",
       "\n",
       "                                                  URL  \\\n",
       "0   http://en.people.cn/n3/2024/0715/c90000-201939...   \n",
       "2   http://en.people.cn/n3/2024/0715/c90000-201938...   \n",
       "3   http://en.people.cn/n3/2024/0715/c90000-201938...   \n",
       "4   http://en.people.cn/n3/2024/0715/c90000-201938...   \n",
       "5   http://en.people.cn/n3/2024/0715/c90000-201936...   \n",
       "..                                                ...   \n",
       "30  http://en.people.cn/n3/2024/0903/c90000-202137...   \n",
       "32  http://en.people.cn/n3/2024/0903/c90000-202136...   \n",
       "34  http://en.people.cn/n3/2024/0903/c90000-202134...   \n",
       "36  http://en.people.cn/n3/2024/0903/c90000-202134...   \n",
       "38  http://en.people.cn/n3/2024/0902/c90000-202130...   \n",
       "\n",
       "                                              Article  \n",
       "0      Photo shows the innovation center for the n...  \n",
       "2      A vertical take-off and landing drone is on...  \n",
       "3     BEIJING  July 15  Xinhua    China is at the ...  \n",
       "4     The 2024 World AI  ference  WAIC  and High-L...  \n",
       "5      The Sakyamuni Pagoda  also known as the Yin...  \n",
       "..                                                ...  \n",
       "30     A Long March-4B carrier rocket carrying a n...  \n",
       "32    In a banana seedling cultivation room of Cro...  \n",
       "34     Alan Qi  president of Huawei Cloud Middle E...  \n",
       "36    BEIJING  Sept  2  Xinhua    China has launch...  \n",
       "38     A China  AG600 large amphibious aircraft is...  \n",
       "\n",
       "[1489 rows x 4 columns]"
      ]
     },
     "execution_count": 112,
     "metadata": {},
     "output_type": "execute_result"
    }
   ],
   "source": [
    "news_dataset"
   ]
  },
  {
   "cell_type": "markdown",
   "id": "f088a2d3-db60-4477-aa95-bdf6c351cc32",
   "metadata": {},
   "source": [
    "## Save as `clean/news_dataset.csv`"
   ]
  },
  {
   "cell_type": "code",
   "execution_count": 114,
   "id": "207c0e60-42bd-43a7-b904-25453bcee999",
   "metadata": {},
   "outputs": [
    {
     "name": "stdin",
     "output_type": "stream",
     "text": [
      "The file ../data/clean/news_dataset.csv already exists. Do you want to overwrite it? (y/n):  y\n"
     ]
    }
   ],
   "source": [
    "filename = '../data/clean/news_dataset.csv'\n",
    "if os.path.exists(filename):\n",
    "    response = input(f\"The file {filename} already exists. Do you want to overwrite it? (y/n): \")\n",
    "    if response.lower() == 'y':\n",
    "        news_dataset.to_csv(filename, index=False)\n",
    "    else:\n",
    "        print(\"File not overwritten.\")\n",
    "else:\n",
    "    news_dataset.to_csv(filename, index=False)"
   ]
  },
  {
   "cell_type": "code",
   "execution_count": null,
   "id": "97146c44-0949-4fb2-913e-b4341f2f5551",
   "metadata": {},
   "outputs": [],
   "source": []
  }
 ],
 "metadata": {
  "kernelspec": {
   "display_name": "Python 3 (ipykernel)",
   "language": "python",
   "name": "python3"
  },
  "language_info": {
   "codemirror_mode": {
    "name": "ipython",
    "version": 3
   },
   "file_extension": ".py",
   "mimetype": "text/x-python",
   "name": "python",
   "nbconvert_exporter": "python",
   "pygments_lexer": "ipython3",
   "version": "3.12.4"
  }
 },
 "nbformat": 4,
 "nbformat_minor": 5
}
